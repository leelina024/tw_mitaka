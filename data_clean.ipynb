{
 "cells": [
  {
   "cell_type": "code",
   "execution_count": 21,
   "metadata": {},
   "outputs": [],
   "source": [
    "import pandas as pd\n",
    "import string\n",
    "import re\n",
    "import nltk\n",
    "from nltk.corpus import stopwords\n",
    "from vaderSentiment.vaderSentiment import SentimentIntensityAnalyzer"
   ]
  },
  {
   "cell_type": "code",
   "execution_count": 22,
   "metadata": {},
   "outputs": [
    {
     "data": {
      "text/plain": [
       "'\\ntw_mitaka_a = pd.read_csv(\"tw_mitaka_a.csv\")\\ntw_mitaka_1 = pd.read_csv(\"tw_mitaka1.csv\")\\nx = pd.concat([tw_mitaka_a, tw_mitaka_1]).drop_duplicates()\\nx.to_csv(\\'tw_mitaka1.csv\\', index=False)\\n'"
      ]
     },
     "execution_count": 22,
     "metadata": {},
     "output_type": "execute_result"
    }
   ],
   "source": [
    "'''\n",
    "tw_mitaka_a = pd.read_csv(\"tw_mitaka_a.csv\")\n",
    "tw_mitaka_1 = pd.read_csv(\"tw_mitaka1.csv\")\n",
    "x = pd.concat([tw_mitaka_a, tw_mitaka_1]).drop_duplicates()\n",
    "x.to_csv('tw_mitaka1.csv', index=False)\n",
    "'''"
   ]
  },
  {
   "cell_type": "code",
   "execution_count": 48,
   "metadata": {},
   "outputs": [],
   "source": [
    "tw_mitaka = pd.read_csv(\"tw_mitaka1.csv\")\n",
    "tw_mitaka['created_at'] =  pd.to_datetime(tw_mitaka['created_at'])"
   ]
  },
  {
   "cell_type": "code",
   "execution_count": 49,
   "metadata": {},
   "outputs": [
    {
     "data": {
      "text/plain": [
       "(1285, 7)"
      ]
     },
     "execution_count": 49,
     "metadata": {},
     "output_type": "execute_result"
    }
   ],
   "source": [
    "tw_mitaka.shape"
   ]
  },
  {
   "cell_type": "code",
   "execution_count": 51,
   "metadata": {},
   "outputs": [
    {
     "name": "stdout",
     "output_type": "stream",
     "text": [
      "<class 'pandas.core.frame.DataFrame'>\n",
      "RangeIndex: 1285 entries, 0 to 1284\n",
      "Data columns (total 7 columns):\n",
      " #   Column      Non-Null Count  Dtype              \n",
      "---  ------      --------------  -----              \n",
      " 0   tweet_id    1285 non-null   int64              \n",
      " 1   username    1285 non-null   object             \n",
      " 2   text        1285 non-null   object             \n",
      " 3   created_at  1285 non-null   datetime64[ns, UTC]\n",
      " 4   location    827 non-null    object             \n",
      " 5   source      1285 non-null   object             \n",
      " 6   url         1285 non-null   object             \n",
      "dtypes: datetime64[ns, UTC](1), int64(1), object(5)\n",
      "memory usage: 70.4+ KB\n"
     ]
    }
   ],
   "source": [
    "tw_mitaka.info()"
   ]
  },
  {
   "cell_type": "code",
   "execution_count": 52,
   "metadata": {},
   "outputs": [
    {
     "data": {
      "text/html": [
       "<div>\n",
       "<style scoped>\n",
       "    .dataframe tbody tr th:only-of-type {\n",
       "        vertical-align: middle;\n",
       "    }\n",
       "\n",
       "    .dataframe tbody tr th {\n",
       "        vertical-align: top;\n",
       "    }\n",
       "\n",
       "    .dataframe thead th {\n",
       "        text-align: right;\n",
       "    }\n",
       "</style>\n",
       "<table border=\"1\" class=\"dataframe\">\n",
       "  <thead>\n",
       "    <tr style=\"text-align: right;\">\n",
       "      <th></th>\n",
       "      <th>tweet_id</th>\n",
       "      <th>username</th>\n",
       "      <th>text</th>\n",
       "      <th>created_at</th>\n",
       "      <th>location</th>\n",
       "      <th>source</th>\n",
       "      <th>url</th>\n",
       "    </tr>\n",
       "  </thead>\n",
       "  <tbody>\n",
       "    <tr>\n",
       "      <th>0</th>\n",
       "      <td>1556927525313323009</td>\n",
       "      <td>denpochi</td>\n",
       "      <td>hey, could u stop posting about mitaka? i ship...</td>\n",
       "      <td>2022-08-09 08:57:03+00:00</td>\n",
       "      <td>17 they/them\\ncsm bllk jjk opm\\nic kamonegioisi</td>\n",
       "      <td>Twitter for Android</td>\n",
       "      <td>https://twitter.com/denpochi/status/1556927525...</td>\n",
       "    </tr>\n",
       "    <tr>\n",
       "      <th>1</th>\n",
       "      <td>1556917447805898754</td>\n",
       "      <td>Lizsa___</td>\n",
       "      <td>join friend's style challenge\\nAsa Mitaka from...</td>\n",
       "      <td>2022-08-09 08:17:00+00:00</td>\n",
       "      <td>NaN</td>\n",
       "      <td>Twitter for Android</td>\n",
       "      <td>https://twitter.com/Lizsa___/status/1556917447...</td>\n",
       "    </tr>\n",
       "    <tr>\n",
       "      <th>2</th>\n",
       "      <td>1556905368520998913</td>\n",
       "      <td>politicfemboy</td>\n",
       "      <td>I desire the same as Asa Mitaka... https://t.c...</td>\n",
       "      <td>2022-08-09 07:29:00+00:00</td>\n",
       "      <td>NaN</td>\n",
       "      <td>Twitter Web App</td>\n",
       "      <td>https://twitter.com/politicfemboy/status/15569...</td>\n",
       "    </tr>\n",
       "    <tr>\n",
       "      <th>3</th>\n",
       "      <td>1556888261964214272</td>\n",
       "      <td>killmekirby</td>\n",
       "      <td>why does my asa mitaka drawing look like yumek...</td>\n",
       "      <td>2022-08-09 06:21:01+00:00</td>\n",
       "      <td>she/her • 17</td>\n",
       "      <td>Twitter for iPhone</td>\n",
       "      <td>https://twitter.com/killmekirby/status/1556888...</td>\n",
       "    </tr>\n",
       "    <tr>\n",
       "      <th>4</th>\n",
       "      <td>1556884584977006592</td>\n",
       "      <td>retromanjapan</td>\n",
       "      <td>The Showa Retro In #MITAKA #Tokyo #8: A One-St...</td>\n",
       "      <td>2022-08-09 06:06:25+00:00</td>\n",
       "      <td>Tokyo, Japan</td>\n",
       "      <td>Revive Social App</td>\n",
       "      <td>https://twitter.com/retromanjapan/status/15568...</td>\n",
       "    </tr>\n",
       "  </tbody>\n",
       "</table>\n",
       "</div>"
      ],
      "text/plain": [
       "              tweet_id       username  \\\n",
       "0  1556927525313323009       denpochi   \n",
       "1  1556917447805898754       Lizsa___   \n",
       "2  1556905368520998913  politicfemboy   \n",
       "3  1556888261964214272    killmekirby   \n",
       "4  1556884584977006592  retromanjapan   \n",
       "\n",
       "                                                text  \\\n",
       "0  hey, could u stop posting about mitaka? i ship...   \n",
       "1  join friend's style challenge\\nAsa Mitaka from...   \n",
       "2  I desire the same as Asa Mitaka... https://t.c...   \n",
       "3  why does my asa mitaka drawing look like yumek...   \n",
       "4  The Showa Retro In #MITAKA #Tokyo #8: A One-St...   \n",
       "\n",
       "                 created_at                                         location  \\\n",
       "0 2022-08-09 08:57:03+00:00  17 they/them\\ncsm bllk jjk opm\\nic kamonegioisi   \n",
       "1 2022-08-09 08:17:00+00:00                                              NaN   \n",
       "2 2022-08-09 07:29:00+00:00                                              NaN   \n",
       "3 2022-08-09 06:21:01+00:00                                     she/her • 17   \n",
       "4 2022-08-09 06:06:25+00:00                                     Tokyo, Japan   \n",
       "\n",
       "                source                                                url  \n",
       "0  Twitter for Android  https://twitter.com/denpochi/status/1556927525...  \n",
       "1  Twitter for Android  https://twitter.com/Lizsa___/status/1556917447...  \n",
       "2      Twitter Web App  https://twitter.com/politicfemboy/status/15569...  \n",
       "3   Twitter for iPhone  https://twitter.com/killmekirby/status/1556888...  \n",
       "4    Revive Social App  https://twitter.com/retromanjapan/status/15568...  "
      ]
     },
     "execution_count": 52,
     "metadata": {},
     "output_type": "execute_result"
    }
   ],
   "source": [
    "tw_mitaka.head()"
   ]
  },
  {
   "cell_type": "code",
   "execution_count": 54,
   "metadata": {},
   "outputs": [],
   "source": [
    "#Stop words, links, emotes, non-ascii characters are removed.\n",
    "stops = set(stopwords.words('english'))\n",
    "\n",
    "for i in range(len(tw_mitaka['text'])):\n",
    "    tweet_text = []\n",
    "    #https://stackoverflow.com/a/24399874\n",
    "    tw_mitaka['text'][i] = re.sub(r'[^\\x00-\\x7f]',r'', tw_mitaka['text'][i])\n",
    "    #https://stackoverflow.com/a/65330690\n",
    "    tw_mitaka['text'][i] = re.sub(r\"http\\S+\", \"\", tw_mitaka['text'][i])\n",
    "    \n",
    "    words = tw_mitaka['text'][i].lower().split()\n",
    "    words = [''.join(letter for letter in word if letter not in (string.punctuation)) for word in words]\n",
    "    for word in words:\n",
    "        if word not in stops:\n",
    "            tweet_text.append(word)\n",
    "\n",
    "    tw_mitaka['text'].iloc[i] = ' '.join(tweet_text)"
   ]
  },
  {
   "cell_type": "code",
   "execution_count": 56,
   "metadata": {},
   "outputs": [
    {
     "name": "stdout",
     "output_type": "stream",
     "text": [
      "['vomit', 'nuclear', 'weapons', 'chainsawman', 'procreate', 'mitaka']\n"
     ]
    }
   ],
   "source": [
    "print(tw_mitaka['text'][25])"
   ]
  },
  {
   "cell_type": "code",
   "execution_count": 63,
   "metadata": {},
   "outputs": [],
   "source": [
    "#Word frequency dict\n",
    "word_freq = {}\n",
    "\n",
    "for text_list in tw_mitaka['text']:\n",
    "    for word in text_list.split():\n",
    "        if word not in word_freq:\n",
    "            word_freq[word] = 0\n",
    "        word_freq[word] += 1"
   ]
  },
  {
   "cell_type": "code",
   "execution_count": 67,
   "metadata": {},
   "outputs": [
    {
     "data": {
      "text/plain": [
       "{'hey': 5, 'could': 11, 'u': 17, 'stop': 5, 'posting': 2}"
      ]
     },
     "execution_count": 67,
     "metadata": {},
     "output_type": "execute_result"
    }
   ],
   "source": [
    "dict(list(word_freq.items())[0:5])"
   ]
  },
  {
   "cell_type": "code",
   "execution_count": 70,
   "metadata": {},
   "outputs": [],
   "source": [
    "#Creating dataframe from word freq dict\n",
    "df_wordfreq = pd.DataFrame.from_dict(word_freq, orient='index', columns=['Freq'])"
   ]
  },
  {
   "cell_type": "code",
   "execution_count": 72,
   "metadata": {},
   "outputs": [
    {
     "data": {
      "text/html": [
       "<div>\n",
       "<style scoped>\n",
       "    .dataframe tbody tr th:only-of-type {\n",
       "        vertical-align: middle;\n",
       "    }\n",
       "\n",
       "    .dataframe tbody tr th {\n",
       "        vertical-align: top;\n",
       "    }\n",
       "\n",
       "    .dataframe thead th {\n",
       "        text-align: right;\n",
       "    }\n",
       "</style>\n",
       "<table border=\"1\" class=\"dataframe\">\n",
       "  <thead>\n",
       "    <tr style=\"text-align: right;\">\n",
       "      <th></th>\n",
       "      <th>Freq</th>\n",
       "    </tr>\n",
       "  </thead>\n",
       "  <tbody>\n",
       "    <tr>\n",
       "      <th>devil</th>\n",
       "      <td>685</td>\n",
       "    </tr>\n",
       "    <tr>\n",
       "      <th>war</th>\n",
       "      <td>679</td>\n",
       "    </tr>\n",
       "    <tr>\n",
       "      <th>mitaka</th>\n",
       "      <td>542</td>\n",
       "    </tr>\n",
       "    <tr>\n",
       "      <th>chainsawman</th>\n",
       "      <td>339</td>\n",
       "    </tr>\n",
       "    <tr>\n",
       "      <th>asa</th>\n",
       "      <td>273</td>\n",
       "    </tr>\n",
       "  </tbody>\n",
       "</table>\n",
       "</div>"
      ],
      "text/plain": [
       "             Freq\n",
       "devil         685\n",
       "war           679\n",
       "mitaka        542\n",
       "chainsawman   339\n",
       "asa           273"
      ]
     },
     "execution_count": 72,
     "metadata": {},
     "output_type": "execute_result"
    }
   ],
   "source": [
    "df_wordfreq.sort_values('Freq', ascending=False).head(5)"
   ]
  },
  {
   "cell_type": "markdown",
   "metadata": {},
   "source": [
    "#### VADER Sentimental Analysis"
   ]
  },
  {
   "cell_type": "code",
   "execution_count": 102,
   "metadata": {},
   "outputs": [],
   "source": [
    "#Sentimental analysis function with VADER\n",
    "def sentiment_scores(sentence):\n",
    "    sid_obj = SentimentIntensityAnalyzer()\n",
    "    sentiment_dict = sid_obj.polarity_scores(sentence)\n",
    "    if sentiment_dict['compound'] >= 0.05 :\n",
    "        return(\"Positive\")\n",
    "    elif sentiment_dict['compound'] <= -0.05 :\n",
    "        return(\"Negative\")\n",
    "    else :\n",
    "        return(\"Neutral\")"
   ]
  },
  {
   "cell_type": "code",
   "execution_count": 165,
   "metadata": {},
   "outputs": [],
   "source": [
    "#Adding score column for sentiment analysis\n",
    "tw_mitaka_vader = tw_mitaka.copy()"
   ]
  },
  {
   "cell_type": "code",
   "execution_count": 167,
   "metadata": {},
   "outputs": [],
   "source": [
    "#VADER Sentimental analysis on text. \n",
    "score_list = []\n",
    "for i in tw_mitaka_vader['text']:\n",
    "    score = sentiment_scores(i)\n",
    "    score_list.append(score)"
   ]
  },
  {
   "cell_type": "code",
   "execution_count": 168,
   "metadata": {},
   "outputs": [],
   "source": [
    "tw_mitaka_vader['score'] = score_list"
   ]
  },
  {
   "cell_type": "code",
   "execution_count": 170,
   "metadata": {},
   "outputs": [
    {
     "name": "stdout",
     "output_type": "stream",
     "text": [
      "<class 'pandas.core.frame.DataFrame'>\n",
      "RangeIndex: 1285 entries, 0 to 1284\n",
      "Data columns (total 8 columns):\n",
      " #   Column      Non-Null Count  Dtype              \n",
      "---  ------      --------------  -----              \n",
      " 0   tweet_id    1285 non-null   int64              \n",
      " 1   username    1285 non-null   object             \n",
      " 2   text        1285 non-null   object             \n",
      " 3   created_at  1285 non-null   datetime64[ns, UTC]\n",
      " 4   location    827 non-null    object             \n",
      " 5   source      1285 non-null   object             \n",
      " 6   url         1285 non-null   object             \n",
      " 7   score       1285 non-null   object             \n",
      "dtypes: datetime64[ns, UTC](1), int64(1), object(6)\n",
      "memory usage: 80.4+ KB\n"
     ]
    }
   ],
   "source": [
    "tw_mitaka_vader.info()"
   ]
  },
  {
   "cell_type": "markdown",
   "metadata": {},
   "source": [
    "### Can see that most tweets are \"negative\" according to the algorithm, but I want to say that's mostly due to the language of the queried keywords in the first place."
   ]
  },
  {
   "cell_type": "code",
   "execution_count": 171,
   "metadata": {},
   "outputs": [
    {
     "name": "stdout",
     "output_type": "stream",
     "text": [
      "score\n",
      "Negative    758\n",
      "Neutral     284\n",
      "Positive    243\n",
      "dtype: int64\n"
     ]
    }
   ],
   "source": [
    "print(tw_mitaka_vader.groupby('score').size())"
   ]
  },
  {
   "cell_type": "code",
   "execution_count": 40,
   "metadata": {},
   "outputs": [
    {
     "name": "stdout",
     "output_type": "stream",
     "text": [
      "source\n",
      "Apple refrigerator           1\n",
      "Buffer                       1\n",
      "Cheap Bots, Done Quick!     25\n",
      "Coub                         1\n",
      "Danbooru Bot                 7\n",
      "IFTTT                        1\n",
      "Instagram                    1\n",
      "J1 Travel                    3\n",
      "JRE_Chuo_E                   4\n",
      "JRE_Sobu_E                   4\n",
      "Otagakure News               1\n",
      "Revive Social App           50\n",
      "Tumblr                       2\n",
      "TweetDeck                    9\n",
      "Twitter                      2\n",
      "Twitter Media Studio         1\n",
      "Twitter Web App            309\n",
      "Twitter for Android        414\n",
      "Twitter for iPad            40\n",
      "Twitter for iPhone         388\n",
      "WeNano Spots                 2\n",
      "WordPress.com                2\n",
      "dlvr.it                      2\n",
      "pixiv: Post to Twitter       1\n",
      "twittbot.net                14\n",
      "dtype: int64\n"
     ]
    }
   ],
   "source": [
    "print(tw_mitaka.groupby('source').size())"
   ]
  },
  {
   "cell_type": "code",
   "execution_count": 176,
   "metadata": {},
   "outputs": [
    {
     "data": {
      "text/plain": [
       "572"
      ]
     },
     "execution_count": 176,
     "metadata": {},
     "output_type": "execute_result"
    }
   ],
   "source": [
    "tw_mitaka['location'].nunique()"
   ]
  },
  {
   "cell_type": "code",
   "execution_count": null,
   "metadata": {},
   "outputs": [],
   "source": [
    "'''\n",
    "Next Steps:\n",
    "Create visualizations of findings.\n",
    "Time, Source, Score, username maybe (who's tweeting the most?), location (need to clean)\n",
    "'''"
   ]
  }
 ],
 "metadata": {
  "kernelspec": {
   "display_name": "Python 3.10.4 64-bit",
   "language": "python",
   "name": "python3"
  },
  "language_info": {
   "codemirror_mode": {
    "name": "ipython",
    "version": 3
   },
   "file_extension": ".py",
   "mimetype": "text/x-python",
   "name": "python",
   "nbconvert_exporter": "python",
   "pygments_lexer": "ipython3",
   "version": "3.10.4"
  },
  "orig_nbformat": 4,
  "vscode": {
   "interpreter": {
    "hash": "5957fb8699bb8ade38cc9fa17c52bb197a88ed995d3d5124add69fcd13f3a1c9"
   }
  }
 },
 "nbformat": 4,
 "nbformat_minor": 2
}
