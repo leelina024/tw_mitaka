{
 "cells": [
  {
   "cell_type": "code",
   "execution_count": 1,
   "metadata": {},
   "outputs": [],
   "source": [
    "import requests\n",
    "import json\n",
    "import pandas as pd\n",
    "import tweepy"
   ]
  },
  {
   "cell_type": "code",
   "execution_count": 2,
   "metadata": {},
   "outputs": [],
   "source": [
    "with open(r'C:\\Users\\roast\\Desktop\\twitter_keys.txt', 'r') as file:\n",
    "    tokens = file.readlines()\n",
    "API_KEY = tokens[0]\n",
    "API_SECRET = tokens[1]\n",
    "ACCESS_KEY = tokens[2]\n",
    "ACCESS_SECRET = tokens[3]\n",
    "bearer = tokens[4]"
   ]
  },
  {
   "cell_type": "code",
   "execution_count": 3,
   "metadata": {},
   "outputs": [],
   "source": [
    "auth = tweepy.OAuthHandler(API_KEY, API_SECRET)\n",
    "auth.set_access_token(ACCESS_KEY, ACCESS_SECRET)\n",
    "client = tweepy.Client(bearer_token = bearer)"
   ]
  },
  {
   "cell_type": "code",
   "execution_count": 4,
   "metadata": {},
   "outputs": [],
   "source": [
    "def df_response(res):\n",
    "    tw_users1 = {tw_user['id']: tw_user for tw_user in res.includes['users']}\n",
    "    df = pd.DataFrame()\n",
    "\n",
    "    for tweet in res.data:\n",
    "        if tw_users1[tweet.author_id]:\n",
    "            tw_user = tw_users1[tweet.author_id]\n",
    "        temp_dict = {\n",
    "            'tweet_id': [tweet.id],\n",
    "            'username': [tw_user.username],\n",
    "            'text': [tweet.text],\n",
    "            'created_at': [tweet.created_at],\n",
    "            'location': [tw_user.location],\n",
    "            'source': [tweet.source],\n",
    "            'url': [\"https://twitter.com/\"+str(tw_user.username)+\"/status/\"+str(tweet.id)]\n",
    "        }\n",
    "        temp_df = pd.DataFrame(temp_dict)\n",
    "        df = pd.concat([temp_df, df])\n",
    "\n",
    "    return df"
   ]
  },
  {
   "cell_type": "code",
   "execution_count": 5,
   "metadata": {},
   "outputs": [],
   "source": [
    "#Creating loop for word: mitaka\n",
    "mitaka_df = pd.DataFrame()\n",
    "query1 = '(#mitaka OR mitaka) -is:retweet -is:quote -is:reply lang:en'\n",
    "last_tw_id = None\n",
    "\n",
    "while mitaka_df.empty:\n",
    "    try:\n",
    "        for i in reversed(range(1,11)):\n",
    "            tweets1 = client.search_recent_tweets(query=query1, max_results = 100, until_id = last_tw_id, \n",
    "                                                user_fields = ['username', 'location'],\n",
    "                                                tweet_fields=['created_at', 'source'],\n",
    "                                                expansions = ['author_id'])\n",
    "            temp_df = df_response(tweets1).sort_values(['created_at'], ascending=False)\n",
    "\n",
    "            last_tw_id = temp_df.iloc[len(temp_df)-1]['tweet_id']\n",
    "            \n",
    "            mitaka_df = pd.concat([temp_df, mitaka_df])\n",
    "    except KeyError:\n",
    "        pass"
   ]
  },
  {
   "cell_type": "code",
   "execution_count": 6,
   "metadata": {},
   "outputs": [
    {
     "data": {
      "text/plain": [
       "tweet_id      145\n",
       "username      106\n",
       "text          138\n",
       "created_at    144\n",
       "location       55\n",
       "source         14\n",
       "url           145\n",
       "dtype: int64"
      ]
     },
     "execution_count": 6,
     "metadata": {},
     "output_type": "execute_result"
    }
   ],
   "source": [
    "mitaka_df.nunique()"
   ]
  },
  {
   "cell_type": "code",
   "execution_count": 7,
   "metadata": {},
   "outputs": [
    {
     "data": {
      "text/plain": [
       "tweet_id                                    1558923867258818566\n",
       "username                                          retromanjapan\n",
       "text          The Showa Retro In #MITAKA #Tokyo #28: Marks O...\n",
       "created_at                            2022-08-14 21:09:48+00:00\n",
       "location                                           Tokyo, Japan\n",
       "source                                        Revive Social App\n",
       "url           https://twitter.com/retromanjapan/status/15589...\n",
       "Name: 0, dtype: object"
      ]
     },
     "execution_count": 7,
     "metadata": {},
     "output_type": "execute_result"
    }
   ],
   "source": [
    "mitaka_df.sort_values(['created_at'], ascending=False).iloc[0] #Most Recent Tweet"
   ]
  },
  {
   "cell_type": "code",
   "execution_count": 8,
   "metadata": {},
   "outputs": [
    {
     "data": {
      "text/plain": [
       "tweet_id                                    1556444156075339776\n",
       "username                                                hyegumi\n",
       "text                              LRT MITAKA'S GETTING ANIMATED\n",
       "created_at                            2022-08-08 00:56:18+00:00\n",
       "location                                                she/her\n",
       "source                                      Twitter for Android\n",
       "url           https://twitter.com/hyegumi/status/15564441560...\n",
       "Name: 0, dtype: object"
      ]
     },
     "execution_count": 8,
     "metadata": {},
     "output_type": "execute_result"
    }
   ],
   "source": [
    "mitaka_df.sort_values(['created_at'], ascending=False).iloc[len(mitaka_df)-1] #Last tweet queried by API allowable"
   ]
  },
  {
   "cell_type": "code",
   "execution_count": 9,
   "metadata": {},
   "outputs": [
    {
     "data": {
      "text/html": [
       "<div>\n",
       "<style scoped>\n",
       "    .dataframe tbody tr th:only-of-type {\n",
       "        vertical-align: middle;\n",
       "    }\n",
       "\n",
       "    .dataframe tbody tr th {\n",
       "        vertical-align: top;\n",
       "    }\n",
       "\n",
       "    .dataframe thead th {\n",
       "        text-align: right;\n",
       "    }\n",
       "</style>\n",
       "<table border=\"1\" class=\"dataframe\">\n",
       "  <thead>\n",
       "    <tr style=\"text-align: right;\">\n",
       "      <th></th>\n",
       "      <th>tweet_id</th>\n",
       "      <th>username</th>\n",
       "      <th>text</th>\n",
       "      <th>created_at</th>\n",
       "      <th>location</th>\n",
       "      <th>source</th>\n",
       "      <th>url</th>\n",
       "    </tr>\n",
       "  </thead>\n",
       "  <tbody>\n",
       "    <tr>\n",
       "      <th>0</th>\n",
       "      <td>1556927525313323009</td>\n",
       "      <td>denpochi</td>\n",
       "      <td>hey, could u stop posting about mitaka? i ship...</td>\n",
       "      <td>2022-08-09 08:57:03+00:00</td>\n",
       "      <td>17 they/them\\ncsm bllk jjk opm\\nic kamonegioisi</td>\n",
       "      <td>Twitter for Android</td>\n",
       "      <td>https://twitter.com/denpochi/status/1556927525...</td>\n",
       "    </tr>\n",
       "    <tr>\n",
       "      <th>0</th>\n",
       "      <td>1556917447805898754</td>\n",
       "      <td>Lizsa___</td>\n",
       "      <td>join friend's style challenge\\nAsa Mitaka from...</td>\n",
       "      <td>2022-08-09 08:17:00+00:00</td>\n",
       "      <td>None</td>\n",
       "      <td>Twitter for Android</td>\n",
       "      <td>https://twitter.com/Lizsa___/status/1556917447...</td>\n",
       "    </tr>\n",
       "    <tr>\n",
       "      <th>0</th>\n",
       "      <td>1556905368520998913</td>\n",
       "      <td>politicfemboy</td>\n",
       "      <td>I desire the same as Asa Mitaka... https://t.c...</td>\n",
       "      <td>2022-08-09 07:29:00+00:00</td>\n",
       "      <td>None</td>\n",
       "      <td>Twitter Web App</td>\n",
       "      <td>https://twitter.com/politicfemboy/status/15569...</td>\n",
       "    </tr>\n",
       "    <tr>\n",
       "      <th>0</th>\n",
       "      <td>1556888261964214272</td>\n",
       "      <td>killmekirby</td>\n",
       "      <td>why does my asa mitaka drawing look like yumek...</td>\n",
       "      <td>2022-08-09 06:21:01+00:00</td>\n",
       "      <td>she/her • 17</td>\n",
       "      <td>Twitter for iPhone</td>\n",
       "      <td>https://twitter.com/killmekirby/status/1556888...</td>\n",
       "    </tr>\n",
       "    <tr>\n",
       "      <th>0</th>\n",
       "      <td>1556884584977006592</td>\n",
       "      <td>retromanjapan</td>\n",
       "      <td>The Showa Retro In #MITAKA #Tokyo #8: A One-St...</td>\n",
       "      <td>2022-08-09 06:06:25+00:00</td>\n",
       "      <td>Tokyo, Japan</td>\n",
       "      <td>Revive Social App</td>\n",
       "      <td>https://twitter.com/retromanjapan/status/15568...</td>\n",
       "    </tr>\n",
       "  </tbody>\n",
       "</table>\n",
       "</div>"
      ],
      "text/plain": [
       "              tweet_id       username  \\\n",
       "0  1556927525313323009       denpochi   \n",
       "0  1556917447805898754       Lizsa___   \n",
       "0  1556905368520998913  politicfemboy   \n",
       "0  1556888261964214272    killmekirby   \n",
       "0  1556884584977006592  retromanjapan   \n",
       "\n",
       "                                                text  \\\n",
       "0  hey, could u stop posting about mitaka? i ship...   \n",
       "0  join friend's style challenge\\nAsa Mitaka from...   \n",
       "0  I desire the same as Asa Mitaka... https://t.c...   \n",
       "0  why does my asa mitaka drawing look like yumek...   \n",
       "0  The Showa Retro In #MITAKA #Tokyo #8: A One-St...   \n",
       "\n",
       "                 created_at                                         location  \\\n",
       "0 2022-08-09 08:57:03+00:00  17 they/them\\ncsm bllk jjk opm\\nic kamonegioisi   \n",
       "0 2022-08-09 08:17:00+00:00                                             None   \n",
       "0 2022-08-09 07:29:00+00:00                                             None   \n",
       "0 2022-08-09 06:21:01+00:00                                     she/her • 17   \n",
       "0 2022-08-09 06:06:25+00:00                                     Tokyo, Japan   \n",
       "\n",
       "                source                                                url  \n",
       "0  Twitter for Android  https://twitter.com/denpochi/status/1556927525...  \n",
       "0  Twitter for Android  https://twitter.com/Lizsa___/status/1556917447...  \n",
       "0      Twitter Web App  https://twitter.com/politicfemboy/status/15569...  \n",
       "0   Twitter for iPhone  https://twitter.com/killmekirby/status/1556888...  \n",
       "0    Revive Social App  https://twitter.com/retromanjapan/status/15568...  "
      ]
     },
     "execution_count": 9,
     "metadata": {},
     "output_type": "execute_result"
    }
   ],
   "source": [
    "mitaka_df.head()"
   ]
  },
  {
   "cell_type": "code",
   "execution_count": 10,
   "metadata": {},
   "outputs": [],
   "source": [
    "#Creating loop for word: asa mitaka\n",
    "asamitaka_df = pd.DataFrame()\n",
    "query2 = '(asamitaka OR \"asa mitaka\" OR #asamitaka) -is:retweet -is:quote -is:reply lang:en'\n",
    "last_tw_id = None\n",
    "\n",
    "while asamitaka_df.empty:\n",
    "    try:\n",
    "        for i in reversed(range(1,11)):\n",
    "            tweets2 = client.search_recent_tweets(query=query2, max_results = 100, until_id = last_tw_id,\n",
    "                                            user_fields = ['username', 'location'],\n",
    "                                            tweet_fields=['created_at', 'source'],\n",
    "                                            expansions = ['author_id'])\n",
    "            temp_df = df_response(tweets2).sort_values(['created_at'], ascending=False)\n",
    "            last_tw_id = temp_df.iloc[len(temp_df)-1]['tweet_id']\n",
    "                \n",
    "            asamitaka_df = pd.concat([temp_df, asamitaka_df])\n",
    "    except KeyError:\n",
    "        pass"
   ]
  },
  {
   "cell_type": "code",
   "execution_count": 11,
   "metadata": {},
   "outputs": [
    {
     "data": {
      "text/plain": [
       "(90, 7)"
      ]
     },
     "execution_count": 11,
     "metadata": {},
     "output_type": "execute_result"
    }
   ],
   "source": [
    "asamitaka_df.shape"
   ]
  },
  {
   "cell_type": "code",
   "execution_count": 12,
   "metadata": {},
   "outputs": [
    {
     "data": {
      "text/plain": [
       "tweet_id                                    1558850388824150019\n",
       "username                                        spookygraveyard\n",
       "text          Do y’all think Asa Mitaka killing Bucky will b...\n",
       "created_at                            2022-08-14 16:17:49+00:00\n",
       "location                            it/haunts/envyself lesbian \n",
       "source                                       Twitter for iPhone\n",
       "url           https://twitter.com/spookygraveyard/status/155...\n",
       "Name: 0, dtype: object"
      ]
     },
     "execution_count": 12,
     "metadata": {},
     "output_type": "execute_result"
    }
   ],
   "source": [
    "asamitaka_df.sort_values(['created_at'], ascending=False).iloc[0]"
   ]
  },
  {
   "cell_type": "code",
   "execution_count": 13,
   "metadata": {},
   "outputs": [
    {
     "data": {
      "text/plain": [
       "tweet_id                                    1556457835705221120\n",
       "username                                              yukizhien\n",
       "text          I HAV #asamitaka ART LATUUURRRR AAAAAAAA https...\n",
       "created_at                            2022-08-08 01:50:40+00:00\n",
       "location                                                     ph\n",
       "source                                      Twitter for Android\n",
       "url           https://twitter.com/yukizhien/status/155645783...\n",
       "Name: 0, dtype: object"
      ]
     },
     "execution_count": 13,
     "metadata": {},
     "output_type": "execute_result"
    }
   ],
   "source": [
    "#Last tweet queried by API allowable\n",
    "asamitaka_df.sort_values(['created_at'], ascending=False).iloc[len(asamitaka_df)-1] "
   ]
  },
  {
   "cell_type": "code",
   "execution_count": 14,
   "metadata": {},
   "outputs": [
    {
     "data": {
      "text/html": [
       "<div>\n",
       "<style scoped>\n",
       "    .dataframe tbody tr th:only-of-type {\n",
       "        vertical-align: middle;\n",
       "    }\n",
       "\n",
       "    .dataframe tbody tr th {\n",
       "        vertical-align: top;\n",
       "    }\n",
       "\n",
       "    .dataframe thead th {\n",
       "        text-align: right;\n",
       "    }\n",
       "</style>\n",
       "<table border=\"1\" class=\"dataframe\">\n",
       "  <thead>\n",
       "    <tr style=\"text-align: right;\">\n",
       "      <th></th>\n",
       "      <th>tweet_id</th>\n",
       "      <th>username</th>\n",
       "      <th>text</th>\n",
       "      <th>created_at</th>\n",
       "      <th>location</th>\n",
       "      <th>source</th>\n",
       "      <th>url</th>\n",
       "    </tr>\n",
       "  </thead>\n",
       "  <tbody>\n",
       "    <tr>\n",
       "      <th>0</th>\n",
       "      <td>1558850388824150019</td>\n",
       "      <td>spookygraveyard</td>\n",
       "      <td>Do y’all think Asa Mitaka killing Bucky will b...</td>\n",
       "      <td>2022-08-14 16:17:49+00:00</td>\n",
       "      <td>it/haunts/envyself lesbian</td>\n",
       "      <td>Twitter for iPhone</td>\n",
       "      <td>https://twitter.com/spookygraveyard/status/155...</td>\n",
       "    </tr>\n",
       "    <tr>\n",
       "      <th>0</th>\n",
       "      <td>1558799546750160896</td>\n",
       "      <td>najinteru</td>\n",
       "      <td>Hi moots!! I missed u all!! Sorry for the long...</td>\n",
       "      <td>2022-08-14 12:55:47+00:00</td>\n",
       "      <td>None</td>\n",
       "      <td>Twitter for Android</td>\n",
       "      <td>https://twitter.com/najinteru/status/155879954...</td>\n",
       "    </tr>\n",
       "    <tr>\n",
       "      <th>0</th>\n",
       "      <td>1558654350645514240</td>\n",
       "      <td>cyetelie</td>\n",
       "      <td>new drawing  #asamitaka #chainsawmanfanart htt...</td>\n",
       "      <td>2022-08-14 03:18:50+00:00</td>\n",
       "      <td>None</td>\n",
       "      <td>Twitter Web App</td>\n",
       "      <td>https://twitter.com/cyetelie/status/1558654350...</td>\n",
       "    </tr>\n",
       "    <tr>\n",
       "      <th>0</th>\n",
       "      <td>1558627510732169218</td>\n",
       "      <td>rrrgphoenix</td>\n",
       "      <td>Chainsaw Man live action cast 🤔\\n\\ntom holland...</td>\n",
       "      <td>2022-08-14 01:32:11+00:00</td>\n",
       "      <td>None</td>\n",
       "      <td>Twitter Web App</td>\n",
       "      <td>https://twitter.com/rrrgphoenix/status/1558627...</td>\n",
       "    </tr>\n",
       "    <tr>\n",
       "      <th>0</th>\n",
       "      <td>1558618247318183938</td>\n",
       "      <td>SolwayDemi</td>\n",
       "      <td>updated kinlist yet again\\nwas considering put...</td>\n",
       "      <td>2022-08-14 00:55:22+00:00</td>\n",
       "      <td>Forbidden Zone</td>\n",
       "      <td>Twitter for iPhone</td>\n",
       "      <td>https://twitter.com/SolwayDemi/status/15586182...</td>\n",
       "    </tr>\n",
       "  </tbody>\n",
       "</table>\n",
       "</div>"
      ],
      "text/plain": [
       "              tweet_id         username  \\\n",
       "0  1558850388824150019  spookygraveyard   \n",
       "0  1558799546750160896        najinteru   \n",
       "0  1558654350645514240         cyetelie   \n",
       "0  1558627510732169218      rrrgphoenix   \n",
       "0  1558618247318183938       SolwayDemi   \n",
       "\n",
       "                                                text  \\\n",
       "0  Do y’all think Asa Mitaka killing Bucky will b...   \n",
       "0  Hi moots!! I missed u all!! Sorry for the long...   \n",
       "0  new drawing  #asamitaka #chainsawmanfanart htt...   \n",
       "0  Chainsaw Man live action cast 🤔\\n\\ntom holland...   \n",
       "0  updated kinlist yet again\\nwas considering put...   \n",
       "\n",
       "                 created_at                     location               source  \\\n",
       "0 2022-08-14 16:17:49+00:00  it/haunts/envyself lesbian    Twitter for iPhone   \n",
       "0 2022-08-14 12:55:47+00:00                         None  Twitter for Android   \n",
       "0 2022-08-14 03:18:50+00:00                         None      Twitter Web App   \n",
       "0 2022-08-14 01:32:11+00:00                         None      Twitter Web App   \n",
       "0 2022-08-14 00:55:22+00:00               Forbidden Zone   Twitter for iPhone   \n",
       "\n",
       "                                                 url  \n",
       "0  https://twitter.com/spookygraveyard/status/155...  \n",
       "0  https://twitter.com/najinteru/status/155879954...  \n",
       "0  https://twitter.com/cyetelie/status/1558654350...  \n",
       "0  https://twitter.com/rrrgphoenix/status/1558627...  \n",
       "0  https://twitter.com/SolwayDemi/status/15586182...  "
      ]
     },
     "execution_count": 14,
     "metadata": {},
     "output_type": "execute_result"
    }
   ],
   "source": [
    "asamitaka_df.head()"
   ]
  },
  {
   "cell_type": "code",
   "execution_count": 15,
   "metadata": {},
   "outputs": [],
   "source": [
    "#Creating loop for word: mitaka asa\n",
    "mitakaasa_df = pd.DataFrame()\n",
    "query3 = '(mitakaasa OR \"mitaka asa\" OR #mitakaasa) -is:retweet -is:quote -is:reply lang:en'\n",
    "last_tw_id = None\n",
    "\n",
    "while mitakaasa_df.empty:\n",
    "    try:\n",
    "        for i in reversed(range(1,11)):\n",
    "            tweets3 = client.search_recent_tweets(query=query3, max_results = 100, until_id = last_tw_id,\n",
    "                                            user_fields = ['username', 'location'],\n",
    "                                            tweet_fields=['created_at', 'source'],\n",
    "                                            expansions = ['author_id'])\n",
    "            temp_df = df_response(tweets3).sort_values(['created_at'], ascending=False)\n",
    "            last_tw_id = temp_df.iloc[len(temp_df)-1]['tweet_id']\n",
    "                \n",
    "            mitakaasa_df = pd.concat([temp_df, mitakaasa_df])\n",
    "    except KeyError:\n",
    "        pass"
   ]
  },
  {
   "cell_type": "code",
   "execution_count": 16,
   "metadata": {},
   "outputs": [
    {
     "data": {
      "text/plain": [
       "(13, 7)"
      ]
     },
     "execution_count": 16,
     "metadata": {},
     "output_type": "execute_result"
    }
   ],
   "source": [
    "mitakaasa_df.shape"
   ]
  },
  {
   "cell_type": "code",
   "execution_count": 17,
   "metadata": {},
   "outputs": [
    {
     "data": {
      "text/plain": [
       "tweet_id                                    1558740227119775744\n",
       "username                                                dnbooru\n",
       "text          World\\n#chainsaw_man\\nCharacters\\n#mitaka_asa\\...\n",
       "created_at                            2022-08-14 09:00:04+00:00\n",
       "location                                                  Tokyo\n",
       "source                                             Danbooru Bot\n",
       "url           https://twitter.com/dnbooru/status/15587402271...\n",
       "Name: 0, dtype: object"
      ]
     },
     "execution_count": 17,
     "metadata": {},
     "output_type": "execute_result"
    }
   ],
   "source": [
    "mitakaasa_df.sort_values(['created_at'], ascending=False).iloc[0]"
   ]
  },
  {
   "cell_type": "code",
   "execution_count": 18,
   "metadata": {},
   "outputs": [
    {
     "data": {
      "text/plain": [
       "tweet_id                                    1556756075663089665\n",
       "username                                        EmAfterMidnight\n",
       "text          Midnight Rendezvous \\n\\n#YoshiAsa \\n\\nNSFW Pri...\n",
       "created_at                            2022-08-08 21:35:46+00:00\n",
       "location                                                   None\n",
       "source                                          Twitter Web App\n",
       "url           https://twitter.com/EmAfterMidnight/status/155...\n",
       "Name: 0, dtype: object"
      ]
     },
     "execution_count": 18,
     "metadata": {},
     "output_type": "execute_result"
    }
   ],
   "source": [
    "#Last tweet queried by API allowable\n",
    "mitakaasa_df.sort_values(['created_at'], ascending=False).iloc[len(mitakaasa_df)-1] "
   ]
  },
  {
   "cell_type": "code",
   "execution_count": 19,
   "metadata": {},
   "outputs": [
    {
     "data": {
      "text/html": [
       "<div>\n",
       "<style scoped>\n",
       "    .dataframe tbody tr th:only-of-type {\n",
       "        vertical-align: middle;\n",
       "    }\n",
       "\n",
       "    .dataframe tbody tr th {\n",
       "        vertical-align: top;\n",
       "    }\n",
       "\n",
       "    .dataframe thead th {\n",
       "        text-align: right;\n",
       "    }\n",
       "</style>\n",
       "<table border=\"1\" class=\"dataframe\">\n",
       "  <thead>\n",
       "    <tr style=\"text-align: right;\">\n",
       "      <th></th>\n",
       "      <th>tweet_id</th>\n",
       "      <th>username</th>\n",
       "      <th>text</th>\n",
       "      <th>created_at</th>\n",
       "      <th>location</th>\n",
       "      <th>source</th>\n",
       "      <th>url</th>\n",
       "    </tr>\n",
       "  </thead>\n",
       "  <tbody>\n",
       "    <tr>\n",
       "      <th>0</th>\n",
       "      <td>1558740227119775744</td>\n",
       "      <td>dnbooru</td>\n",
       "      <td>World\\n#chainsaw_man\\nCharacters\\n#mitaka_asa\\...</td>\n",
       "      <td>2022-08-14 09:00:04+00:00</td>\n",
       "      <td>Tokyo</td>\n",
       "      <td>Danbooru Bot</td>\n",
       "      <td>https://twitter.com/dnbooru/status/15587402271...</td>\n",
       "    </tr>\n",
       "    <tr>\n",
       "      <th>0</th>\n",
       "      <td>1558672272600219649</td>\n",
       "      <td>dnbooru</td>\n",
       "      <td>World\\n#chainsaw_man\\nCharacters\\n#mitaka_asa\\...</td>\n",
       "      <td>2022-08-14 04:30:03+00:00</td>\n",
       "      <td>Tokyo</td>\n",
       "      <td>Danbooru Bot</td>\n",
       "      <td>https://twitter.com/dnbooru/status/15586722726...</td>\n",
       "    </tr>\n",
       "    <tr>\n",
       "      <th>0</th>\n",
       "      <td>1558386374423719938</td>\n",
       "      <td>todomeowmo</td>\n",
       "      <td>caught up with chainsaw man abs oh no I think ...</td>\n",
       "      <td>2022-08-13 09:33:59+00:00</td>\n",
       "      <td>todomomo arc! 🍑🍰 #轟百</td>\n",
       "      <td>Twitter for iPhone</td>\n",
       "      <td>https://twitter.com/todomeowmo/status/15583863...</td>\n",
       "    </tr>\n",
       "    <tr>\n",
       "      <th>0</th>\n",
       "      <td>1558237541689872384</td>\n",
       "      <td>NightcoreR45</td>\n",
       "      <td>✦➥  PLEASE HELP ME IN MAKING MY YOUTUBE VIDEO ...</td>\n",
       "      <td>2022-08-12 23:42:35+00:00</td>\n",
       "      <td>None</td>\n",
       "      <td>Twitter for Android</td>\n",
       "      <td>https://twitter.com/NightcoreR45/status/155823...</td>\n",
       "    </tr>\n",
       "    <tr>\n",
       "      <th>0</th>\n",
       "      <td>1558206783289688064</td>\n",
       "      <td>ShockSans</td>\n",
       "      <td>little drawing I made days ago dedicated to Mi...</td>\n",
       "      <td>2022-08-12 21:40:21+00:00</td>\n",
       "      <td>None</td>\n",
       "      <td>Twitter for Android</td>\n",
       "      <td>https://twitter.com/ShockSans/status/155820678...</td>\n",
       "    </tr>\n",
       "  </tbody>\n",
       "</table>\n",
       "</div>"
      ],
      "text/plain": [
       "              tweet_id      username  \\\n",
       "0  1558740227119775744       dnbooru   \n",
       "0  1558672272600219649       dnbooru   \n",
       "0  1558386374423719938    todomeowmo   \n",
       "0  1558237541689872384  NightcoreR45   \n",
       "0  1558206783289688064     ShockSans   \n",
       "\n",
       "                                                text  \\\n",
       "0  World\\n#chainsaw_man\\nCharacters\\n#mitaka_asa\\...   \n",
       "0  World\\n#chainsaw_man\\nCharacters\\n#mitaka_asa\\...   \n",
       "0  caught up with chainsaw man abs oh no I think ...   \n",
       "0  ✦➥  PLEASE HELP ME IN MAKING MY YOUTUBE VIDEO ...   \n",
       "0  little drawing I made days ago dedicated to Mi...   \n",
       "\n",
       "                 created_at              location               source  \\\n",
       "0 2022-08-14 09:00:04+00:00                 Tokyo         Danbooru Bot   \n",
       "0 2022-08-14 04:30:03+00:00                 Tokyo         Danbooru Bot   \n",
       "0 2022-08-13 09:33:59+00:00  todomomo arc! 🍑🍰 #轟百   Twitter for iPhone   \n",
       "0 2022-08-12 23:42:35+00:00                  None  Twitter for Android   \n",
       "0 2022-08-12 21:40:21+00:00                  None  Twitter for Android   \n",
       "\n",
       "                                                 url  \n",
       "0  https://twitter.com/dnbooru/status/15587402271...  \n",
       "0  https://twitter.com/dnbooru/status/15586722726...  \n",
       "0  https://twitter.com/todomeowmo/status/15583863...  \n",
       "0  https://twitter.com/NightcoreR45/status/155823...  \n",
       "0  https://twitter.com/ShockSans/status/155820678...  "
      ]
     },
     "execution_count": 19,
     "metadata": {},
     "output_type": "execute_result"
    }
   ],
   "source": [
    "mitakaasa_df.head()"
   ]
  },
  {
   "cell_type": "code",
   "execution_count": 20,
   "metadata": {},
   "outputs": [],
   "source": [
    "#Creating loop for word: war devil\n",
    "wardevil_df = pd.DataFrame()\n",
    "query4 = '(wardevil OR \"war devil\" OR #wardevil) -is:retweet -is:quote -is:reply lang:en'\n",
    "last_tw_id = None\n",
    "\n",
    "while wardevil_df.empty:\n",
    "    try:\n",
    "        for i in reversed(range(1,11)):\n",
    "            tweets4 = client.search_recent_tweets(query=query4, max_results = 100, until_id = last_tw_id,\n",
    "                                            user_fields = ['username', 'location'],\n",
    "                                            tweet_fields=['created_at', 'source'],\n",
    "                                            expansions = ['author_id'])\n",
    "            temp_df = df_response(tweets4).sort_values(['created_at'], ascending=False)\n",
    "            last_tw_id = temp_df.iloc[len(temp_df)-1]['tweet_id']\n",
    "                \n",
    "            wardevil_df = pd.concat([temp_df, wardevil_df])\n",
    "    except KeyError:\n",
    "        pass"
   ]
  },
  {
   "cell_type": "code",
   "execution_count": 21,
   "metadata": {},
   "outputs": [
    {
     "data": {
      "text/plain": [
       "(195, 7)"
      ]
     },
     "execution_count": 21,
     "metadata": {},
     "output_type": "execute_result"
    }
   ],
   "source": [
    "wardevil_df.shape"
   ]
  },
  {
   "cell_type": "code",
   "execution_count": 22,
   "metadata": {},
   "outputs": [
    {
     "data": {
      "text/plain": [
       "tweet_id                                    1558932756641579009\n",
       "username                                        xTrillValentine\n",
       "text          war devil 😈 \\n\\n#chainsawman https://t.co/nU4m...\n",
       "created_at                            2022-08-14 21:45:07+00:00\n",
       "location                                           St Louis, MO\n",
       "source                                       Twitter for iPhone\n",
       "url           https://twitter.com/xTrillValentine/status/155...\n",
       "Name: 0, dtype: object"
      ]
     },
     "execution_count": 22,
     "metadata": {},
     "output_type": "execute_result"
    }
   ],
   "source": [
    "wardevil_df.sort_values(['created_at'], ascending=False).iloc[0]"
   ]
  },
  {
   "cell_type": "code",
   "execution_count": 23,
   "metadata": {},
   "outputs": [
    {
     "data": {
      "text/plain": [
       "tweet_id                                    1556413306956570625\n",
       "username                                              noitrecat\n",
       "text          this war devil animation is magnificent \\n#cha...\n",
       "created_at                            2022-08-07 22:53:43+00:00\n",
       "location                                                   None\n",
       "source                                      Twitter for Android\n",
       "url           https://twitter.com/noitrecat/status/155641330...\n",
       "Name: 0, dtype: object"
      ]
     },
     "execution_count": 23,
     "metadata": {},
     "output_type": "execute_result"
    }
   ],
   "source": [
    "#Last tweet queried by API allowable\n",
    "wardevil_df.sort_values(['created_at'], ascending=False).iloc[len(wardevil_df)-1] "
   ]
  },
  {
   "cell_type": "code",
   "execution_count": 24,
   "metadata": {},
   "outputs": [
    {
     "data": {
      "text/html": [
       "<div>\n",
       "<style scoped>\n",
       "    .dataframe tbody tr th:only-of-type {\n",
       "        vertical-align: middle;\n",
       "    }\n",
       "\n",
       "    .dataframe tbody tr th {\n",
       "        vertical-align: top;\n",
       "    }\n",
       "\n",
       "    .dataframe thead th {\n",
       "        text-align: right;\n",
       "    }\n",
       "</style>\n",
       "<table border=\"1\" class=\"dataframe\">\n",
       "  <thead>\n",
       "    <tr style=\"text-align: right;\">\n",
       "      <th></th>\n",
       "      <th>tweet_id</th>\n",
       "      <th>username</th>\n",
       "      <th>text</th>\n",
       "      <th>created_at</th>\n",
       "      <th>location</th>\n",
       "      <th>source</th>\n",
       "      <th>url</th>\n",
       "    </tr>\n",
       "  </thead>\n",
       "  <tbody>\n",
       "    <tr>\n",
       "      <th>0</th>\n",
       "      <td>1557411045563564038</td>\n",
       "      <td>Bee_Curious_</td>\n",
       "      <td>Please like and follow! Chainsaw man's new cha...</td>\n",
       "      <td>2022-08-10 16:58:23+00:00</td>\n",
       "      <td>None</td>\n",
       "      <td>Twitter for Android</td>\n",
       "      <td>https://twitter.com/Bee_Curious_/status/155741...</td>\n",
       "    </tr>\n",
       "    <tr>\n",
       "      <th>0</th>\n",
       "      <td>1557401799866388480</td>\n",
       "      <td>BERSERKISMS</td>\n",
       "      <td>/ it seems there are More war devil accs then ...</td>\n",
       "      <td>2022-08-10 16:21:38+00:00</td>\n",
       "      <td>𝐌𝐃𝐍𝐈</td>\n",
       "      <td>Twitter for iPhone</td>\n",
       "      <td>https://twitter.com/BERSERKISMS/status/1557401...</td>\n",
       "    </tr>\n",
       "    <tr>\n",
       "      <th>0</th>\n",
       "      <td>1557396517128110080</td>\n",
       "      <td>Ilumix_Naomi</td>\n",
       "      <td>War devil WIP https://t.co/NdsGzQlE7b</td>\n",
       "      <td>2022-08-10 16:00:39+00:00</td>\n",
       "      <td>None</td>\n",
       "      <td>Twitter for Android</td>\n",
       "      <td>https://twitter.com/Ilumix_Naomi/status/155739...</td>\n",
       "    </tr>\n",
       "    <tr>\n",
       "      <th>0</th>\n",
       "      <td>1557390855362826240</td>\n",
       "      <td>angeIkiIls</td>\n",
       "      <td>imagine if the way the war devil transformed w...</td>\n",
       "      <td>2022-08-10 15:38:09+00:00</td>\n",
       "      <td>22. he/they. nsfw sometimes!</td>\n",
       "      <td>Twitter for iPhone</td>\n",
       "      <td>https://twitter.com/angeIkiIls/status/15573908...</td>\n",
       "    </tr>\n",
       "    <tr>\n",
       "      <th>0</th>\n",
       "      <td>1557366178275893248</td>\n",
       "      <td>dnbooru</td>\n",
       "      <td>World\\n#chainsaw_man\\nCharacters\\n#makima_chai...</td>\n",
       "      <td>2022-08-10 14:00:06+00:00</td>\n",
       "      <td>Tokyo</td>\n",
       "      <td>Danbooru Bot</td>\n",
       "      <td>https://twitter.com/dnbooru/status/15573661782...</td>\n",
       "    </tr>\n",
       "  </tbody>\n",
       "</table>\n",
       "</div>"
      ],
      "text/plain": [
       "              tweet_id      username  \\\n",
       "0  1557411045563564038  Bee_Curious_   \n",
       "0  1557401799866388480   BERSERKISMS   \n",
       "0  1557396517128110080  Ilumix_Naomi   \n",
       "0  1557390855362826240    angeIkiIls   \n",
       "0  1557366178275893248       dnbooru   \n",
       "\n",
       "                                                text  \\\n",
       "0  Please like and follow! Chainsaw man's new cha...   \n",
       "0  / it seems there are More war devil accs then ...   \n",
       "0              War devil WIP https://t.co/NdsGzQlE7b   \n",
       "0  imagine if the way the war devil transformed w...   \n",
       "0  World\\n#chainsaw_man\\nCharacters\\n#makima_chai...   \n",
       "\n",
       "                 created_at                      location  \\\n",
       "0 2022-08-10 16:58:23+00:00                          None   \n",
       "0 2022-08-10 16:21:38+00:00                          𝐌𝐃𝐍𝐈   \n",
       "0 2022-08-10 16:00:39+00:00                          None   \n",
       "0 2022-08-10 15:38:09+00:00  22. he/they. nsfw sometimes!   \n",
       "0 2022-08-10 14:00:06+00:00                         Tokyo   \n",
       "\n",
       "                source                                                url  \n",
       "0  Twitter for Android  https://twitter.com/Bee_Curious_/status/155741...  \n",
       "0   Twitter for iPhone  https://twitter.com/BERSERKISMS/status/1557401...  \n",
       "0  Twitter for Android  https://twitter.com/Ilumix_Naomi/status/155739...  \n",
       "0   Twitter for iPhone  https://twitter.com/angeIkiIls/status/15573908...  \n",
       "0         Danbooru Bot  https://twitter.com/dnbooru/status/15573661782...  "
      ]
     },
     "execution_count": 24,
     "metadata": {},
     "output_type": "execute_result"
    }
   ],
   "source": [
    "wardevil_df.head()"
   ]
  },
  {
   "cell_type": "code",
   "execution_count": 25,
   "metadata": {},
   "outputs": [
    {
     "data": {
      "text/html": [
       "<div>\n",
       "<style scoped>\n",
       "    .dataframe tbody tr th:only-of-type {\n",
       "        vertical-align: middle;\n",
       "    }\n",
       "\n",
       "    .dataframe tbody tr th {\n",
       "        vertical-align: top;\n",
       "    }\n",
       "\n",
       "    .dataframe thead th {\n",
       "        text-align: right;\n",
       "    }\n",
       "</style>\n",
       "<table border=\"1\" class=\"dataframe\">\n",
       "  <thead>\n",
       "    <tr style=\"text-align: right;\">\n",
       "      <th></th>\n",
       "      <th>tweet_id</th>\n",
       "      <th>username</th>\n",
       "      <th>text</th>\n",
       "      <th>created_at</th>\n",
       "      <th>location</th>\n",
       "      <th>source</th>\n",
       "      <th>url</th>\n",
       "    </tr>\n",
       "  </thead>\n",
       "  <tbody>\n",
       "    <tr>\n",
       "      <th>0</th>\n",
       "      <td>1556927525313323009</td>\n",
       "      <td>denpochi</td>\n",
       "      <td>hey, could u stop posting about mitaka? i ship...</td>\n",
       "      <td>2022-08-09 08:57:03+00:00</td>\n",
       "      <td>17 they/them\\ncsm bllk jjk opm\\nic kamonegioisi</td>\n",
       "      <td>Twitter for Android</td>\n",
       "      <td>https://twitter.com/denpochi/status/1556927525...</td>\n",
       "    </tr>\n",
       "    <tr>\n",
       "      <th>0</th>\n",
       "      <td>1556917447805898754</td>\n",
       "      <td>Lizsa___</td>\n",
       "      <td>join friend's style challenge\\nAsa Mitaka from...</td>\n",
       "      <td>2022-08-09 08:17:00+00:00</td>\n",
       "      <td>None</td>\n",
       "      <td>Twitter for Android</td>\n",
       "      <td>https://twitter.com/Lizsa___/status/1556917447...</td>\n",
       "    </tr>\n",
       "    <tr>\n",
       "      <th>0</th>\n",
       "      <td>1556905368520998913</td>\n",
       "      <td>politicfemboy</td>\n",
       "      <td>I desire the same as Asa Mitaka... https://t.c...</td>\n",
       "      <td>2022-08-09 07:29:00+00:00</td>\n",
       "      <td>None</td>\n",
       "      <td>Twitter Web App</td>\n",
       "      <td>https://twitter.com/politicfemboy/status/15569...</td>\n",
       "    </tr>\n",
       "    <tr>\n",
       "      <th>0</th>\n",
       "      <td>1556888261964214272</td>\n",
       "      <td>killmekirby</td>\n",
       "      <td>why does my asa mitaka drawing look like yumek...</td>\n",
       "      <td>2022-08-09 06:21:01+00:00</td>\n",
       "      <td>she/her • 17</td>\n",
       "      <td>Twitter for iPhone</td>\n",
       "      <td>https://twitter.com/killmekirby/status/1556888...</td>\n",
       "    </tr>\n",
       "    <tr>\n",
       "      <th>0</th>\n",
       "      <td>1556884584977006592</td>\n",
       "      <td>retromanjapan</td>\n",
       "      <td>The Showa Retro In #MITAKA #Tokyo #8: A One-St...</td>\n",
       "      <td>2022-08-09 06:06:25+00:00</td>\n",
       "      <td>Tokyo, Japan</td>\n",
       "      <td>Revive Social App</td>\n",
       "      <td>https://twitter.com/retromanjapan/status/15568...</td>\n",
       "    </tr>\n",
       "  </tbody>\n",
       "</table>\n",
       "</div>"
      ],
      "text/plain": [
       "              tweet_id       username  \\\n",
       "0  1556927525313323009       denpochi   \n",
       "0  1556917447805898754       Lizsa___   \n",
       "0  1556905368520998913  politicfemboy   \n",
       "0  1556888261964214272    killmekirby   \n",
       "0  1556884584977006592  retromanjapan   \n",
       "\n",
       "                                                text  \\\n",
       "0  hey, could u stop posting about mitaka? i ship...   \n",
       "0  join friend's style challenge\\nAsa Mitaka from...   \n",
       "0  I desire the same as Asa Mitaka... https://t.c...   \n",
       "0  why does my asa mitaka drawing look like yumek...   \n",
       "0  The Showa Retro In #MITAKA #Tokyo #8: A One-St...   \n",
       "\n",
       "                 created_at                                         location  \\\n",
       "0 2022-08-09 08:57:03+00:00  17 they/them\\ncsm bllk jjk opm\\nic kamonegioisi   \n",
       "0 2022-08-09 08:17:00+00:00                                             None   \n",
       "0 2022-08-09 07:29:00+00:00                                             None   \n",
       "0 2022-08-09 06:21:01+00:00                                     she/her • 17   \n",
       "0 2022-08-09 06:06:25+00:00                                     Tokyo, Japan   \n",
       "\n",
       "                source                                                url  \n",
       "0  Twitter for Android  https://twitter.com/denpochi/status/1556927525...  \n",
       "0  Twitter for Android  https://twitter.com/Lizsa___/status/1556917447...  \n",
       "0      Twitter Web App  https://twitter.com/politicfemboy/status/15569...  \n",
       "0   Twitter for iPhone  https://twitter.com/killmekirby/status/1556888...  \n",
       "0    Revive Social App  https://twitter.com/retromanjapan/status/15568...  "
      ]
     },
     "execution_count": 25,
     "metadata": {},
     "output_type": "execute_result"
    }
   ],
   "source": [
    "# merged and final dataframe\n",
    "frames = [mitaka_df, asamitaka_df, mitakaasa_df, wardevil_df]\n",
    "tw_mitaka_df = pd.concat(frames)\n",
    "tw_mitaka_df.head()\n",
    "\n",
    "#tw_mitaka_df = tw_mitaka_df[~tw_mitaka_df.index.duplicated(keep='first')] #Removing dup indices later"
   ]
  },
  {
   "cell_type": "code",
   "execution_count": 26,
   "metadata": {},
   "outputs": [
    {
     "data": {
      "text/plain": [
       "tweet_id      346\n",
       "username      276\n",
       "text          334\n",
       "created_at    345\n",
       "location      144\n",
       "source         16\n",
       "url           346\n",
       "dtype: int64"
      ]
     },
     "execution_count": 26,
     "metadata": {},
     "output_type": "execute_result"
    }
   ],
   "source": [
    "tw_mitaka_df.nunique()"
   ]
  },
  {
   "cell_type": "code",
   "execution_count": 27,
   "metadata": {},
   "outputs": [
    {
     "name": "stdout",
     "output_type": "stream",
     "text": [
      "<class 'pandas.core.frame.DataFrame'>\n",
      "Int64Index: 443 entries, 0 to 0\n",
      "Data columns (total 7 columns):\n",
      " #   Column      Non-Null Count  Dtype              \n",
      "---  ------      --------------  -----              \n",
      " 0   tweet_id    443 non-null    int64              \n",
      " 1   username    443 non-null    object             \n",
      " 2   text        443 non-null    object             \n",
      " 3   created_at  443 non-null    datetime64[ns, UTC]\n",
      " 4   location    232 non-null    object             \n",
      " 5   source      443 non-null    object             \n",
      " 6   url         443 non-null    object             \n",
      "dtypes: datetime64[ns, UTC](1), int64(1), object(5)\n",
      "memory usage: 27.7+ KB\n"
     ]
    }
   ],
   "source": [
    "tw_mitaka_df.info()"
   ]
  },
  {
   "cell_type": "code",
   "execution_count": 28,
   "metadata": {},
   "outputs": [],
   "source": [
    "tw_mitaka_df.to_csv('tw_mitaka_a.csv', index=False)"
   ]
  },
  {
   "cell_type": "markdown",
   "metadata": {},
   "source": [
    "Since I can only query from the past 7 days, need to do more queries in future to get more datapoints.\n",
    "\n",
    "8/5 Update: 846 unique tweets from 7/29 - 8/7 \\\n",
    "8/12 Update: 346 unique tweets from 8/7 - 8/14"
   ]
  }
 ],
 "metadata": {
  "kernelspec": {
   "display_name": "Python 3.10.4 64-bit",
   "language": "python",
   "name": "python3"
  },
  "language_info": {
   "codemirror_mode": {
    "name": "ipython",
    "version": 3
   },
   "file_extension": ".py",
   "mimetype": "text/x-python",
   "name": "python",
   "nbconvert_exporter": "python",
   "pygments_lexer": "ipython3",
   "version": "3.10.4"
  },
  "orig_nbformat": 4,
  "vscode": {
   "interpreter": {
    "hash": "5957fb8699bb8ade38cc9fa17c52bb197a88ed995d3d5124add69fcd13f3a1c9"
   }
  }
 },
 "nbformat": 4,
 "nbformat_minor": 2
}
