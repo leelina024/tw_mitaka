{
 "cells": [
  {
   "cell_type": "code",
   "execution_count": 20,
   "metadata": {},
   "outputs": [],
   "source": [
    "import pandas as pd\n",
    "import string"
   ]
  },
  {
   "cell_type": "markdown",
   "metadata": {},
   "source": [
    "tweet_id - int - index \\\n",
    "username - string\\\n",
    "text - string\\\n",
    "created_at - datetime\\\n",
    "location - string\\\n",
    "source - string\\\n",
    "url - string"
   ]
  },
  {
   "cell_type": "markdown",
   "metadata": {},
   "source": [
    "text - split each sentence into individual words, without whitespace, puncutation, all lowercase.\\\n",
    "Each value of text is a list ['i', 'like', 'coffee']\\\n",
    "create word frequency dictionary ^"
   ]
  },
  {
   "cell_type": "code",
   "execution_count": 2,
   "metadata": {},
   "outputs": [],
   "source": [
    "tw_mitaka = pd.read_csv(\"8_5_tw_mitaka.csv\")"
   ]
  },
  {
   "cell_type": "code",
   "execution_count": 17,
   "metadata": {},
   "outputs": [],
   "source": [
    "tw_mitaka['created_at'] = pd.to_datetime(tw_mitaka['created_at'])"
   ]
  },
  {
   "cell_type": "code",
   "execution_count": 18,
   "metadata": {},
   "outputs": [
    {
     "name": "stdout",
     "output_type": "stream",
     "text": [
      "<class 'pandas.core.frame.DataFrame'>\n",
      "RangeIndex: 1059 entries, 0 to 1058\n",
      "Data columns (total 7 columns):\n",
      " #   Column      Non-Null Count  Dtype              \n",
      "---  ------      --------------  -----              \n",
      " 0   tweet_id    1059 non-null   int64              \n",
      " 1   username    1059 non-null   object             \n",
      " 2   text        1059 non-null   object             \n",
      " 3   created_at  1059 non-null   datetime64[ns, UTC]\n",
      " 4   location    698 non-null    object             \n",
      " 5   source      1059 non-null   object             \n",
      " 6   url         1059 non-null   object             \n",
      "dtypes: datetime64[ns, UTC](1), int64(1), object(5)\n",
      "memory usage: 58.0+ KB\n"
     ]
    }
   ],
   "source": [
    "tw_mitaka.info()"
   ]
  },
  {
   "cell_type": "code",
   "execution_count": 19,
   "metadata": {},
   "outputs": [
    {
     "data": {
      "text/html": [
       "<div>\n",
       "<style scoped>\n",
       "    .dataframe tbody tr th:only-of-type {\n",
       "        vertical-align: middle;\n",
       "    }\n",
       "\n",
       "    .dataframe tbody tr th {\n",
       "        vertical-align: top;\n",
       "    }\n",
       "\n",
       "    .dataframe thead th {\n",
       "        text-align: right;\n",
       "    }\n",
       "</style>\n",
       "<table border=\"1\" class=\"dataframe\">\n",
       "  <thead>\n",
       "    <tr style=\"text-align: right;\">\n",
       "      <th></th>\n",
       "      <th>tweet_id</th>\n",
       "      <th>username</th>\n",
       "      <th>text</th>\n",
       "      <th>created_at</th>\n",
       "      <th>location</th>\n",
       "      <th>source</th>\n",
       "      <th>url</th>\n",
       "    </tr>\n",
       "  </thead>\n",
       "  <tbody>\n",
       "    <tr>\n",
       "      <th>0</th>\n",
       "      <td>1553777739773186048</td>\n",
       "      <td>Vulpeqxla</td>\n",
       "      <td>i need to draw mitaka again soon or else i wil...</td>\n",
       "      <td>2022-07-31 16:20:55+00:00</td>\n",
       "      <td>they/them ♥</td>\n",
       "      <td>Twitter for iPhone</td>\n",
       "      <td>https://twitter.com/Vulpeqxla/status/155377773...</td>\n",
       "    </tr>\n",
       "    <tr>\n",
       "      <th>1</th>\n",
       "      <td>1553776451186458625</td>\n",
       "      <td>aokisotaa</td>\n",
       "      <td>finally decided to check out the denji edit ta...</td>\n",
       "      <td>2022-07-31 16:15:48+00:00</td>\n",
       "      <td>19, they/she</td>\n",
       "      <td>Twitter for Android</td>\n",
       "      <td>https://twitter.com/aokisotaa/status/155377645...</td>\n",
       "    </tr>\n",
       "    <tr>\n",
       "      <th>2</th>\n",
       "      <td>1553775430276194304</td>\n",
       "      <td>retromanjapan</td>\n",
       "      <td>The Showa Retro In https://t.co/H3BK93ITy6 #wo...</td>\n",
       "      <td>2022-07-31 16:11:44+00:00</td>\n",
       "      <td>Tokyo, Japan</td>\n",
       "      <td>Revive Social App</td>\n",
       "      <td>https://twitter.com/retromanjapan/status/15537...</td>\n",
       "    </tr>\n",
       "    <tr>\n",
       "      <th>3</th>\n",
       "      <td>1553773879650394115</td>\n",
       "      <td>nymphahri</td>\n",
       "      <td>Asa Mitaka ⛓️\\nShould I make the actual cospla...</td>\n",
       "      <td>2022-07-31 16:05:35+00:00</td>\n",
       "      <td>Italia</td>\n",
       "      <td>Twitter for Android</td>\n",
       "      <td>https://twitter.com/nymphahri/status/155377387...</td>\n",
       "    </tr>\n",
       "    <tr>\n",
       "      <th>4</th>\n",
       "      <td>1553756835047690240</td>\n",
       "      <td>moonrcin</td>\n",
       "      <td>mitaka best girl \\n\\n#チェンソーマン #chainsawman htt...</td>\n",
       "      <td>2022-07-31 14:57:51+00:00</td>\n",
       "      <td>🇵🇭</td>\n",
       "      <td>Twitter for iPhone</td>\n",
       "      <td>https://twitter.com/moonrcin/status/1553756835...</td>\n",
       "    </tr>\n",
       "  </tbody>\n",
       "</table>\n",
       "</div>"
      ],
      "text/plain": [
       "              tweet_id       username  \\\n",
       "0  1553777739773186048      Vulpeqxla   \n",
       "1  1553776451186458625      aokisotaa   \n",
       "2  1553775430276194304  retromanjapan   \n",
       "3  1553773879650394115      nymphahri   \n",
       "4  1553756835047690240       moonrcin   \n",
       "\n",
       "                                                text  \\\n",
       "0  i need to draw mitaka again soon or else i wil...   \n",
       "1  finally decided to check out the denji edit ta...   \n",
       "2  The Showa Retro In https://t.co/H3BK93ITy6 #wo...   \n",
       "3  Asa Mitaka ⛓️\\nShould I make the actual cospla...   \n",
       "4  mitaka best girl \\n\\n#チェンソーマン #chainsawman htt...   \n",
       "\n",
       "                 created_at      location               source  \\\n",
       "0 2022-07-31 16:20:55+00:00   they/them ♥   Twitter for iPhone   \n",
       "1 2022-07-31 16:15:48+00:00  19, they/she  Twitter for Android   \n",
       "2 2022-07-31 16:11:44+00:00  Tokyo, Japan    Revive Social App   \n",
       "3 2022-07-31 16:05:35+00:00        Italia  Twitter for Android   \n",
       "4 2022-07-31 14:57:51+00:00            🇵🇭   Twitter for iPhone   \n",
       "\n",
       "                                                 url  \n",
       "0  https://twitter.com/Vulpeqxla/status/155377773...  \n",
       "1  https://twitter.com/aokisotaa/status/155377645...  \n",
       "2  https://twitter.com/retromanjapan/status/15537...  \n",
       "3  https://twitter.com/nymphahri/status/155377387...  \n",
       "4  https://twitter.com/moonrcin/status/1553756835...  "
      ]
     },
     "execution_count": 19,
     "metadata": {},
     "output_type": "execute_result"
    }
   ],
   "source": [
    "tw_mitaka.head()"
   ]
  },
  {
   "cell_type": "code",
   "execution_count": 71,
   "metadata": {},
   "outputs": [],
   "source": [
    "tw_mitaka_cpy = tw_mitaka.copy()"
   ]
  },
  {
   "cell_type": "code",
   "execution_count": 73,
   "metadata": {},
   "outputs": [
    {
     "name": "stderr",
     "output_type": "stream",
     "text": [
      "SettingWithCopyWarning: \n",
      "A value is trying to be set on a copy of a slice from a DataFrame\n",
      "\n",
      "See the caveats in the documentation: https://pandas.pydata.org/pandas-docs/stable/user_guide/indexing.html#returning-a-view-versus-a-copy\n",
      "  tw_mitaka_cpy['text'][i] = words\n"
     ]
    }
   ],
   "source": [
    "#Stop words are included \n",
    "for i in range(len(tw_mitaka_cpy['text'])):\n",
    "    words = tw_mitaka_cpy['text'][i].lower().split()\n",
    "    words = [''.join(letter for letter in word if letter not in (string.punctuation)) for word in words]\n",
    "    tw_mitaka_cpy['text'][i] = words"
   ]
  },
  {
   "cell_type": "code",
   "execution_count": 74,
   "metadata": {},
   "outputs": [
    {
     "name": "stderr",
     "output_type": "stream",
     "text": [
      "SettingWithCopyWarning: \n",
      "A value is trying to be set on a copy of a slice from a DataFrame\n",
      "\n",
      "See the caveats in the documentation: https://pandas.pydata.org/pandas-docs/stable/user_guide/indexing.html#returning-a-view-versus-a-copy\n",
      "  tw_mitaka['text'][i] = tweet_text\n"
     ]
    }
   ],
   "source": [
    "#Stop words are omitted.\n",
    "\n",
    "stop_words = ['a','an','and','are','as','be','by','by',\t'for','from','has','he','in','is','it','its',\n",
    "\t'of','on','that','the',\t'to','was',\t'were','will','with','have','am', 'my', 'i', 'this', 'you', 'what', \n",
    "    'but', 'or', 'do', 'can']\n",
    "\n",
    "for i in range(len(tw_mitaka['text'])):\n",
    "    tweet_text = []\n",
    "    words = tw_mitaka['text'][i].lower().split()\n",
    "    words = [''.join(letter for letter in word if letter not in (string.punctuation)) for word in words]\n",
    "    for word in words:\n",
    "        if word not in stop_words:\n",
    "            tweet_text.append(word)\n",
    "    tw_mitaka['text'][i] = tweet_text\n",
    "\n",
    "#Need to remove \"http...\" at end of some tweets.\n",
    "#Emotes and other languages other than English should be removed too. REGREX"
   ]
  },
  {
   "cell_type": "code",
   "execution_count": 79,
   "metadata": {},
   "outputs": [
    {
     "data": {
      "text/plain": [
       "['📷',\n",
       " '★',\n",
       " '【yolanda】',\n",
       " '「',\n",
       " '戦争悪魔',\n",
       " '」',\n",
       " '☆',\n",
       " '⊳',\n",
       " 'mitaka',\n",
       " '',\n",
       " 'chainsaw',\n",
       " 'man',\n",
       " '✔',\n",
       " 'republished',\n",
       " 'wpermission',\n",
       " '⊳',\n",
       " '⊳',\n",
       " 'follow',\n",
       " 'me',\n",
       " 'on',\n",
       " 'instagram',\n",
       " 'httpstcowe7yalr633']"
      ]
     },
     "execution_count": 79,
     "metadata": {},
     "output_type": "execute_result"
    }
   ],
   "source": [
    "tw_mitaka_cpy['text'].iloc[5]"
   ]
  },
  {
   "cell_type": "code",
   "execution_count": null,
   "metadata": {},
   "outputs": [],
   "source": []
  }
 ],
 "metadata": {
  "kernelspec": {
   "display_name": "Python 3.10.4 64-bit",
   "language": "python",
   "name": "python3"
  },
  "language_info": {
   "codemirror_mode": {
    "name": "ipython",
    "version": 3
   },
   "file_extension": ".py",
   "mimetype": "text/x-python",
   "name": "python",
   "nbconvert_exporter": "python",
   "pygments_lexer": "ipython3",
   "version": "3.10.4"
  },
  "orig_nbformat": 4,
  "vscode": {
   "interpreter": {
    "hash": "5957fb8699bb8ade38cc9fa17c52bb197a88ed995d3d5124add69fcd13f3a1c9"
   }
  }
 },
 "nbformat": 4,
 "nbformat_minor": 2
}
