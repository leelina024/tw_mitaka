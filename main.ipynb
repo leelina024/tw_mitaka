{
 "cells": [
  {
   "cell_type": "code",
   "execution_count": 1,
   "metadata": {},
   "outputs": [],
   "source": [
    "import requests\n",
    "import json\n",
    "import pandas as pd\n",
    "import tweepy"
   ]
  },
  {
   "cell_type": "code",
   "execution_count": null,
   "metadata": {},
   "outputs": [],
   "source": [
    "\"\"\"\n",
    "API_KEY = ''\n",
    "API_SECRET = ''\n",
    "ACCESS_KEY = ''\n",
    "ACCESS_SECRET = ''\n",
    "bearer = ''\n",
    "\"\"\""
   ]
  },
  {
   "cell_type": "code",
   "execution_count": 4,
   "metadata": {},
   "outputs": [],
   "source": [
    "auth = tweepy.OAuthHandler(API_KEY, API_SECRET)\n",
    "auth.set_access_token(ACCESS_KEY, ACCESS_SECRET)\n",
    "client = tweepy.Client(bearer_token = bearer)"
   ]
  },
  {
   "cell_type": "code",
   "execution_count": 48,
   "metadata": {},
   "outputs": [
    {
     "name": "stdout",
     "output_type": "stream",
     "text": [
      "1554863317411315715\n",
      "2022-08-03 16:14:37+00:00\n",
      "Twitter Web App\n",
      "mitakalover\n",
      "The name Yoru means ,,night'' which makes sense because Asa's life, since meeting War Devil, has been shrouded in darkness.\n",
      "Btw ,,Yoru'' sounds so cool🌃\n",
      "#chainsawman101 #chainsawman #Mitaka https://t.co/gjT2rCLIfb\n",
      "https://twitter.com/mitakalover/status/1554863317411315715\n",
      "\n",
      "\n",
      "1554846920350351365\n",
      "2022-08-03 15:09:28+00:00\n",
      "Revive Social App\n",
      "retromanjapan\n",
      "The Showa Retro In #MITAKA #Tokyo #20: To The Opposite Side Of The Station https://t.co/3tGfgDMaIj #thejrjapanrailwaychuoline\n",
      "https://twitter.com/retromanjapan/status/1554846920350351365\n",
      "\n",
      "\n",
      "1554786896924090368\n",
      "2022-08-03 11:10:57+00:00\n",
      "Revive Social App\n",
      "retromanjapan\n",
      "The Showa Retro In #MITAKA #Tokyo #2: A New #Pharmacy May https://t.co/gmMyeki78y #osamudazai太宰治novelist #thejrjapanrailwaychuoline\n",
      "https://twitter.com/retromanjapan/status/1554786896924090368\n",
      "\n",
      "\n",
      "1554756676384956418\n",
      "2022-08-03 09:10:52+00:00\n",
      "Revive Social App\n",
      "retromanjapan\n",
      "The Showa Retro In #MITAKA #Tokyo #30: A Stone Monument Of A Meiji Novelist https://t.co/j7UCJqk9fc #thejrjapanrailwaychuoline\n",
      "https://twitter.com/retromanjapan/status/1554756676384956418\n",
      "\n",
      "\n",
      "1554710897687498753\n",
      "2022-08-03 06:08:57+00:00\n",
      "Revive Social App\n",
      "retromanjapan\n",
      "The Showa Retro In #MITAKA #Tokyo #23: Only A Few Showa Retro Buildings https://t.co/Iq5qQ96Xob #thejrjapanrailwaychuoline #izakayagastropub\n",
      "https://twitter.com/retromanjapan/status/1554710897687498753\n",
      "\n",
      "\n",
      "1554680981755502592\n",
      "2022-08-03 04:10:05+00:00\n",
      "Revive Social App\n",
      "retromanjapan\n",
      "The Showa Retro In #MITAKA #Tokyo #27: Almost No Old Retro Buildings https://t.co/o3K7RTnK3p #thejrjapanrailwaychuoline\n",
      "https://twitter.com/retromanjapan/status/1554680981755502592\n",
      "\n",
      "\n",
      "1554635103078420480\n",
      "2022-08-03 01:07:46+00:00\n",
      "Revive Social App\n",
      "retromanjapan\n",
      "The Showa Retro In #MITAKA #Tokyo #5: A Showa Retro Restaurant https://t.co/MJzgTqqusI #thejrjapanrailwaychuoline #showaretrorestaurants\n",
      "https://twitter.com/retromanjapan/status/1554635103078420480\n",
      "\n",
      "\n",
      "1554537484662751232\n",
      "2022-08-02 18:39:52+00:00\n",
      "Twitter Web App\n",
      "BVeganTravels\n",
      "For #HotVlogSummer day 2, we're going on a food adventure around #Tokyo.\n",
      "\n",
      "#Japan #Mitaka #Shinjuku #Vegan #PlantBased #Vlog #Summer2022 #Foodie #YouTube \n",
      "\n",
      "https://t.co/2m4xmqXduI @YouTube https://t.co/qT8oXl8CIg\n",
      "https://twitter.com/BVeganTravels/status/1554537484662751232\n",
      "\n",
      "\n",
      "1554528996603400195\n",
      "2022-08-02 18:06:09+00:00\n",
      "Twitter for iPhone\n",
      "BlueTempest_\n",
      "Streaming the new #ChainsawMan chapter TONIGHT at 8PM ET! Be there or be square!\n",
      "•\n",
      "⤵️\n",
      "https://t.co/blFvsFOlef\n",
      "•\n",
      "#csm #manga #shonenjump #sj #denji #asamitaka #mitaka #chainsawman101 #csm101 #vizmedia #viz #mangareader #otaku #chainsawmanpart2 #tatsukifujimoto https://t.co/4Xy8rwg8rE\n",
      "https://twitter.com/BlueTempest_/status/1554528996603400195\n",
      "\n",
      "\n",
      "1554468490916118528\n",
      "2022-08-02 14:05:43+00:00\n",
      "Revive Social App\n",
      "retromanjapan\n",
      "The Showa Retro In #MITAKA #Tokyo https://t.co/jHoP2uvWSk #musicalinstrumentsstore #thejrjapanrailwaychuoline #calligraphyimplementsstore\n",
      "https://twitter.com/retromanjapan/status/1554468490916118528\n",
      "\n",
      "\n"
     ]
    }
   ],
   "source": [
    "query1 = 'mitaka #mitaka -is:retweet -is:quote -is:reply lang:en'\n",
    "tweets1 = client.search_recent_tweets(query=query1, max_results = 10,\n",
    "                                    user_fields = ['username'],\n",
    "                                    tweet_fields=['created_at', 'source'],\n",
    "                                    expansions = ['author_id'])\n",
    "\n",
    "tw_users1 = {tw_user['id']: tw_user for tw_user in tweets1.includes['users']}\n",
    "\n",
    "for tweet in tweets1.data:\n",
    "    if tw_users1[tweet.author_id]:\n",
    "        tw_user = tw_users1[tweet.author_id]\n",
    "    print(tweet.id)\n",
    "    print(tweet.created_at)\n",
    "    print(tweet.source)\n",
    "    print(tw_user.username)\n",
    "    print(tweet.text)\n",
    "    print(\"https://twitter.com/\"+str(tw_user.username)+\"/status/\"+str(tweet.id))\n",
    "    print(\"\\n\")"
   ]
  },
  {
   "cell_type": "code",
   "execution_count": 18,
   "metadata": {},
   "outputs": [
    {
     "name": "stdout",
     "output_type": "stream",
     "text": [
      "Yoru, the War Devil\n",
      "(of course, using her delicious meat puppet, Asa Mitaka)\n",
      "\n",
      "#chainsawman #chainsawmanfanart #csmプラス #csm #volatilearts #volatile #asamitaka #yoru\n",
      "#wardevil https://t.co/8j0nAheEjH \n",
      "\n",
      "The war devil😌🔥\n",
      "#asamitaka #wardevil #chainsawmanpart2 #chainsawmanfanart #chainsawman #DigitalArtist #digitalpainting https://t.co/QEGWziMQiv \n",
      "\n",
      "Man Chapter 101 Fans witness Asa and Yuko's first encounter with the Devil.😲 Follow us for more Anime news and updates.\n",
      "https://t.co/AQmwLzJ0Yt \n",
      ".\n",
      "#chainsawman #chainsawman101 #wardevil #chainsawman2 #manga #anime https://t.co/5R5wVc2YQF \n",
      "\n",
      "Yoru The War Devil\n",
      "#チェンソーマン #wardevil #chainsawman #asamitaka https://t.co/eGxLssd3Up \n",
      "\n",
      "day 11 | war devil\n",
      "\n",
      "#チェンソーマン #chainsawman #asamitaka #wardevil https://t.co/EdvKco7jts \n",
      "\n",
      "My take on the War devil 🫣 #wardevil #chainsawman #wardevilcosplay https://t.co/kwaVnklxib \n",
      "\n",
      "War Devil Pitcher \n",
      "#sketch  #art  #drawing \n",
      "#Feedback  #chainsawman #wardevil #baseball   #イラスト https://t.co/lBAKWb64AL \n",
      "\n",
      "it's csm tuesday 😈😈😈 have u read the new chapters yet? \n",
      "char: Asa Mitaka / War Devil\n",
      "manga: Chainsaw Man\n",
      "prop made by me :)\n",
      "#csm #chainsawmancosplay #chainsawman #asamitaka #asukacosplay #wardevil #wardevilcosplay #coser #cosplayphoto #cosplayer https://t.co/l4vkmSzQbH \n",
      "\n",
      "War devil is so cool\n",
      "#chainsawman #chainsawman2 #wardevil https://t.co/HJqfyXFRLT \n",
      "\n",
      "If you want to live, your body will be mine -war devil\n",
      "\n",
      "#asamitaka #wardevil #wardevilchainsawman #chainsawman #chainsawmancosplay #asamitakacosplay #wardevilcosplay https://t.co/Yc816YyXgC \n",
      "\n"
     ]
    }
   ],
   "source": [
    "query3 = 'wardevil \"war devil\" #wardevil -is:retweet lang:en'\n",
    "tweets3 = client.search_recent_tweets(query=query3, max_results = 10)\n",
    "for r in tweets3.data:\n",
    "    print(r.text,'\\n')\n"
   ]
  },
  {
   "cell_type": "code",
   "execution_count": null,
   "metadata": {},
   "outputs": [],
   "source": []
  }
 ],
 "metadata": {
  "kernelspec": {
   "display_name": "Python 3.10.4 64-bit",
   "language": "python",
   "name": "python3"
  },
  "language_info": {
   "codemirror_mode": {
    "name": "ipython",
    "version": 3
   },
   "file_extension": ".py",
   "mimetype": "text/x-python",
   "name": "python",
   "nbconvert_exporter": "python",
   "pygments_lexer": "ipython3",
   "version": "3.10.4"
  },
  "orig_nbformat": 4,
  "vscode": {
   "interpreter": {
    "hash": "5957fb8699bb8ade38cc9fa17c52bb197a88ed995d3d5124add69fcd13f3a1c9"
   }
  }
 },
 "nbformat": 4,
 "nbformat_minor": 2
}
