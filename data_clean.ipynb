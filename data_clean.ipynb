{
 "cells": [
  {
   "cell_type": "code",
   "execution_count": 6,
   "metadata": {},
   "outputs": [],
   "source": [
    "import pandas as pd\n",
    "import string\n",
    "import geonamescache\n",
    "import re\n",
    "import nltk\n",
    "from nltk.corpus import stopwords\n",
    "from vaderSentiment.vaderSentiment import SentimentIntensityAnalyzer"
   ]
  },
  {
   "cell_type": "code",
   "execution_count": 7,
   "metadata": {},
   "outputs": [],
   "source": [
    "\n",
    "tw_mitaka_a = pd.read_csv(\"tw_mitaka_814.csv\")\n",
    "tw_mitaka_1 = pd.read_csv(\"tw_mitaka1.csv\")\n",
    "x = pd.concat([tw_mitaka_a, tw_mitaka_1]).drop_duplicates()\n",
    "x.to_csv('tw_mitaka1.csv', index=False)\n"
   ]
  },
  {
   "cell_type": "code",
   "execution_count": 8,
   "metadata": {},
   "outputs": [],
   "source": [
    "tw_mitaka = pd.read_csv(\"tw_mitaka1.csv\")\n",
    "tw_mitaka['created_at'] =  pd.to_datetime(tw_mitaka['created_at'])"
   ]
  },
  {
   "cell_type": "code",
   "execution_count": 9,
   "metadata": {},
   "outputs": [
    {
     "data": {
      "text/plain": [
       "(1727, 7)"
      ]
     },
     "execution_count": 9,
     "metadata": {},
     "output_type": "execute_result"
    }
   ],
   "source": [
    "tw_mitaka.shape"
   ]
  },
  {
   "cell_type": "code",
   "execution_count": 10,
   "metadata": {},
   "outputs": [
    {
     "name": "stdout",
     "output_type": "stream",
     "text": [
      "<class 'pandas.core.frame.DataFrame'>\n",
      "RangeIndex: 1727 entries, 0 to 1726\n",
      "Data columns (total 7 columns):\n",
      " #   Column      Non-Null Count  Dtype              \n",
      "---  ------      --------------  -----              \n",
      " 0   tweet_id    1727 non-null   int64              \n",
      " 1   username    1727 non-null   object             \n",
      " 2   text        1727 non-null   object             \n",
      " 3   created_at  1727 non-null   datetime64[ns, UTC]\n",
      " 4   location    1111 non-null   object             \n",
      " 5   source      1727 non-null   object             \n",
      " 6   url         1727 non-null   object             \n",
      "dtypes: datetime64[ns, UTC](1), int64(1), object(5)\n",
      "memory usage: 94.6+ KB\n"
     ]
    }
   ],
   "source": [
    "tw_mitaka.info()"
   ]
  },
  {
   "cell_type": "code",
   "execution_count": 11,
   "metadata": {},
   "outputs": [
    {
     "data": {
      "text/html": [
       "<div>\n",
       "<style scoped>\n",
       "    .dataframe tbody tr th:only-of-type {\n",
       "        vertical-align: middle;\n",
       "    }\n",
       "\n",
       "    .dataframe tbody tr th {\n",
       "        vertical-align: top;\n",
       "    }\n",
       "\n",
       "    .dataframe thead th {\n",
       "        text-align: right;\n",
       "    }\n",
       "</style>\n",
       "<table border=\"1\" class=\"dataframe\">\n",
       "  <thead>\n",
       "    <tr style=\"text-align: right;\">\n",
       "      <th></th>\n",
       "      <th>tweet_id</th>\n",
       "      <th>username</th>\n",
       "      <th>text</th>\n",
       "      <th>created_at</th>\n",
       "      <th>location</th>\n",
       "      <th>source</th>\n",
       "      <th>url</th>\n",
       "    </tr>\n",
       "  </thead>\n",
       "  <tbody>\n",
       "    <tr>\n",
       "      <th>0</th>\n",
       "      <td>1559563130081910784</td>\n",
       "      <td>railgunreformed</td>\n",
       "      <td>i will protect Asa Mitaka with my life</td>\n",
       "      <td>2022-08-16 15:30:00+00:00</td>\n",
       "      <td>she/her • LgbT • 20 • ASD1-ADD</td>\n",
       "      <td>Twitter Web App</td>\n",
       "      <td>https://twitter.com/railgunreformed/status/155...</td>\n",
       "    </tr>\n",
       "    <tr>\n",
       "      <th>1</th>\n",
       "      <td>1559561877755396098</td>\n",
       "      <td>yoruzuya_</td>\n",
       "      <td>Asa Mitaka nice decision there she's not getti...</td>\n",
       "      <td>2022-08-16 15:25:01+00:00</td>\n",
       "      <td>NaN</td>\n",
       "      <td>Twitter for Android</td>\n",
       "      <td>https://twitter.com/yoruzuya_/status/155956187...</td>\n",
       "    </tr>\n",
       "    <tr>\n",
       "      <th>2</th>\n",
       "      <td>1559561459897700352</td>\n",
       "      <td>MonkeyDJosh_</td>\n",
       "      <td>Mitaka is her I knew it from the first moment ...</td>\n",
       "      <td>2022-08-16 15:23:21+00:00</td>\n",
       "      <td>NaN</td>\n",
       "      <td>Twitter for iPhone</td>\n",
       "      <td>https://twitter.com/MonkeyDJosh_/status/155956...</td>\n",
       "    </tr>\n",
       "    <tr>\n",
       "      <th>3</th>\n",
       "      <td>1559560601172447233</td>\n",
       "      <td>Baleygr086</td>\n",
       "      <td>After all the hype surrounding Denji's comebac...</td>\n",
       "      <td>2022-08-16 15:19:57+00:00</td>\n",
       "      <td>CA</td>\n",
       "      <td>Twitter Web App</td>\n",
       "      <td>https://twitter.com/Baleygr086/status/15595606...</td>\n",
       "    </tr>\n",
       "    <tr>\n",
       "      <th>4</th>\n",
       "      <td>1559560258250362880</td>\n",
       "      <td>exstnctionis</td>\n",
       "      <td>https://t.co/lvUEcCkC71  asa  mitaka  is  clum...</td>\n",
       "      <td>2022-08-16 15:18:35+00:00</td>\n",
       "      <td>NaN</td>\n",
       "      <td>Twitter for iPhone</td>\n",
       "      <td>https://twitter.com/exstnctionis/status/155956...</td>\n",
       "    </tr>\n",
       "  </tbody>\n",
       "</table>\n",
       "</div>"
      ],
      "text/plain": [
       "              tweet_id         username  \\\n",
       "0  1559563130081910784  railgunreformed   \n",
       "1  1559561877755396098        yoruzuya_   \n",
       "2  1559561459897700352     MonkeyDJosh_   \n",
       "3  1559560601172447233       Baleygr086   \n",
       "4  1559560258250362880     exstnctionis   \n",
       "\n",
       "                                                text  \\\n",
       "0             i will protect Asa Mitaka with my life   \n",
       "1  Asa Mitaka nice decision there she's not getti...   \n",
       "2  Mitaka is her I knew it from the first moment ...   \n",
       "3  After all the hype surrounding Denji's comebac...   \n",
       "4  https://t.co/lvUEcCkC71  asa  mitaka  is  clum...   \n",
       "\n",
       "                 created_at                        location  \\\n",
       "0 2022-08-16 15:30:00+00:00  she/her • LgbT • 20 • ASD1-ADD   \n",
       "1 2022-08-16 15:25:01+00:00                             NaN   \n",
       "2 2022-08-16 15:23:21+00:00                             NaN   \n",
       "3 2022-08-16 15:19:57+00:00                              CA   \n",
       "4 2022-08-16 15:18:35+00:00                             NaN   \n",
       "\n",
       "                source                                                url  \n",
       "0      Twitter Web App  https://twitter.com/railgunreformed/status/155...  \n",
       "1  Twitter for Android  https://twitter.com/yoruzuya_/status/155956187...  \n",
       "2   Twitter for iPhone  https://twitter.com/MonkeyDJosh_/status/155956...  \n",
       "3      Twitter Web App  https://twitter.com/Baleygr086/status/15595606...  \n",
       "4   Twitter for iPhone  https://twitter.com/exstnctionis/status/155956...  "
      ]
     },
     "execution_count": 11,
     "metadata": {},
     "output_type": "execute_result"
    }
   ],
   "source": [
    "tw_mitaka.head()"
   ]
  },
  {
   "cell_type": "code",
   "execution_count": null,
   "metadata": {},
   "outputs": [],
   "source": [
    "#Stop words, links, emotes, non-ascii characters are removed.\n",
    "stops = set(stopwords.words('english'))\n",
    "\n",
    "for i in range(len(tw_mitaka['text'])):\n",
    "    tweet_text = []\n",
    "    #https://stackoverflow.com/a/24399874\n",
    "    tw_mitaka['text'][i] = re.sub(r'[^\\x00-\\x7f]',r'', tw_mitaka['text'][i])\n",
    "    #https://stackoverflow.com/a/65330690\n",
    "    tw_mitaka['text'][i] = re.sub(r\"http\\S+\", \"\", tw_mitaka['text'][i])\n",
    "    \n",
    "    words = tw_mitaka['text'][i].lower().split()\n",
    "    words = [''.join(letter for letter in word if letter not in (string.punctuation)) for word in words]\n",
    "    for word in words:\n",
    "        if word not in stops:\n",
    "            tweet_text.append(word)\n",
    "\n",
    "    tw_mitaka['text'].iloc[i] = ' '.join(tweet_text)"
   ]
  },
  {
   "cell_type": "code",
   "execution_count": 13,
   "metadata": {},
   "outputs": [
    {
     "name": "stdout",
     "output_type": "stream",
     "text": [
      "shes wont trust mitaka\n"
     ]
    }
   ],
   "source": [
    "print(tw_mitaka['text'][25])"
   ]
  },
  {
   "cell_type": "code",
   "execution_count": 14,
   "metadata": {},
   "outputs": [],
   "source": [
    "#Word frequency dict\n",
    "word_freq = {}\n",
    "\n",
    "for text_list in tw_mitaka['text']:\n",
    "    for word in text_list.split():\n",
    "        if word not in word_freq:\n",
    "            word_freq[word] = 0\n",
    "        word_freq[word] += 1"
   ]
  },
  {
   "cell_type": "code",
   "execution_count": 15,
   "metadata": {},
   "outputs": [
    {
     "data": {
      "text/plain": [
       "{'protect': 1, 'asa': 365, 'mitaka': 791, 'life': 15, 'nice': 10}"
      ]
     },
     "execution_count": 15,
     "metadata": {},
     "output_type": "execute_result"
    }
   ],
   "source": [
    "dict(list(word_freq.items())[0:5])"
   ]
  },
  {
   "cell_type": "code",
   "execution_count": 16,
   "metadata": {},
   "outputs": [],
   "source": [
    "#Creating dataframe from word freq dict\n",
    "df_wordfreq = pd.DataFrame.from_dict(word_freq, orient='index', columns=['Freq'])"
   ]
  },
  {
   "cell_type": "code",
   "execution_count": 17,
   "metadata": {},
   "outputs": [
    {
     "data": {
      "text/html": [
       "<div>\n",
       "<style scoped>\n",
       "    .dataframe tbody tr th:only-of-type {\n",
       "        vertical-align: middle;\n",
       "    }\n",
       "\n",
       "    .dataframe tbody tr th {\n",
       "        vertical-align: top;\n",
       "    }\n",
       "\n",
       "    .dataframe thead th {\n",
       "        text-align: right;\n",
       "    }\n",
       "</style>\n",
       "<table border=\"1\" class=\"dataframe\">\n",
       "  <thead>\n",
       "    <tr style=\"text-align: right;\">\n",
       "      <th></th>\n",
       "      <th>Freq</th>\n",
       "    </tr>\n",
       "  </thead>\n",
       "  <tbody>\n",
       "    <tr>\n",
       "      <th>devil</th>\n",
       "      <td>863</td>\n",
       "    </tr>\n",
       "    <tr>\n",
       "      <th>war</th>\n",
       "      <td>852</td>\n",
       "    </tr>\n",
       "    <tr>\n",
       "      <th>mitaka</th>\n",
       "      <td>791</td>\n",
       "    </tr>\n",
       "    <tr>\n",
       "      <th>chainsawman</th>\n",
       "      <td>443</td>\n",
       "    </tr>\n",
       "    <tr>\n",
       "      <th>asa</th>\n",
       "      <td>365</td>\n",
       "    </tr>\n",
       "  </tbody>\n",
       "</table>\n",
       "</div>"
      ],
      "text/plain": [
       "             Freq\n",
       "devil         863\n",
       "war           852\n",
       "mitaka        791\n",
       "chainsawman   443\n",
       "asa           365"
      ]
     },
     "execution_count": 17,
     "metadata": {},
     "output_type": "execute_result"
    }
   ],
   "source": [
    "df_wordfreq.sort_values('Freq', ascending=False).head(5)"
   ]
  },
  {
   "cell_type": "markdown",
   "metadata": {},
   "source": [
    "#### VADER Sentimental Analysis"
   ]
  },
  {
   "cell_type": "code",
   "execution_count": 18,
   "metadata": {},
   "outputs": [],
   "source": [
    "#Sentimental analysis function with VADER\n",
    "def sentiment_scores(sentence):\n",
    "    sid_obj = SentimentIntensityAnalyzer()\n",
    "    sentiment_dict = sid_obj.polarity_scores(sentence)\n",
    "    if sentiment_dict['compound'] >= 0.05 :\n",
    "        return(\"Positive\")\n",
    "    elif sentiment_dict['compound'] <= -0.05 :\n",
    "        return(\"Negative\")\n",
    "    else :\n",
    "        return(\"Neutral\")"
   ]
  },
  {
   "cell_type": "code",
   "execution_count": 19,
   "metadata": {},
   "outputs": [],
   "source": [
    "#Adding score column for sentiment analysis\n",
    "tw_mitaka_vader = tw_mitaka.copy()"
   ]
  },
  {
   "cell_type": "code",
   "execution_count": 20,
   "metadata": {},
   "outputs": [],
   "source": [
    "#VADER Sentimental analysis on text. \n",
    "score_list = []\n",
    "for i in tw_mitaka_vader['text']:\n",
    "    score = sentiment_scores(i)\n",
    "    score_list.append(score)"
   ]
  },
  {
   "cell_type": "code",
   "execution_count": 21,
   "metadata": {},
   "outputs": [],
   "source": [
    "tw_mitaka_vader['score'] = score_list"
   ]
  },
  {
   "cell_type": "code",
   "execution_count": 22,
   "metadata": {},
   "outputs": [
    {
     "name": "stdout",
     "output_type": "stream",
     "text": [
      "<class 'pandas.core.frame.DataFrame'>\n",
      "RangeIndex: 1727 entries, 0 to 1726\n",
      "Data columns (total 8 columns):\n",
      " #   Column      Non-Null Count  Dtype              \n",
      "---  ------      --------------  -----              \n",
      " 0   tweet_id    1727 non-null   int64              \n",
      " 1   username    1727 non-null   object             \n",
      " 2   text        1727 non-null   object             \n",
      " 3   created_at  1727 non-null   datetime64[ns, UTC]\n",
      " 4   location    1111 non-null   object             \n",
      " 5   source      1727 non-null   object             \n",
      " 6   url         1727 non-null   object             \n",
      " 7   score       1727 non-null   object             \n",
      "dtypes: datetime64[ns, UTC](1), int64(1), object(6)\n",
      "memory usage: 108.1+ KB\n"
     ]
    }
   ],
   "source": [
    "tw_mitaka_vader.info()"
   ]
  },
  {
   "cell_type": "markdown",
   "metadata": {},
   "source": [
    "### Can see that most tweets are \"negative\" according to the algorithm, but I want to say that's mostly due to the language of the queried keywords in the first place."
   ]
  },
  {
   "cell_type": "code",
   "execution_count": 23,
   "metadata": {},
   "outputs": [
    {
     "name": "stdout",
     "output_type": "stream",
     "text": [
      "score\n",
      "Negative    973\n",
      "Neutral     412\n",
      "Positive    342\n",
      "dtype: int64\n"
     ]
    }
   ],
   "source": [
    "print(tw_mitaka_vader.groupby('score').size())"
   ]
  },
  {
   "cell_type": "code",
   "execution_count": 24,
   "metadata": {},
   "outputs": [
    {
     "name": "stdout",
     "output_type": "stream",
     "text": [
      "username\n",
      "retromanjapan     81\n",
      "soubusen7         21\n",
      "Rod_anderis       21\n",
      "loveabyssal       20\n",
      "dnbooru           10\n",
      "hyegumi           10\n",
      "lonehuman123      10\n",
      "rainyxink          9\n",
      "AirRapid_HE433     9\n",
      "SassyGayHux        8\n",
      "dtype: int64\n"
     ]
    }
   ],
   "source": [
    "print(tw_mitaka.groupby('username').size().sort_values(ascending=False)[0:10])"
   ]
  },
  {
   "cell_type": "code",
   "execution_count": 95,
   "metadata": {},
   "outputs": [
    {
     "name": "stdout",
     "output_type": "stream",
     "text": [
      "location\n",
      "Tokyo, Japan                      84\n",
      "千葉～三鷹                             21\n",
      "ic: mazamuno → qt count: 49       20\n",
      "she/her                           18\n",
      "Tokyo                             14\n",
      "dying non human innocent Earth    10\n",
      "aroace - 23 - rey                  9\n",
      "❮SY13❯舞子公園(兵庫県 神戸市)                9\n",
      "Tokyo-to, Japan                    8\n",
      "Malaysia                           7\n",
      "dtype: int64\n"
     ]
    }
   ],
   "source": [
    "print(tw_mitaka.groupby('location').size().sort_values(ascending=False)[0:10])"
   ]
  },
  {
   "cell_type": "code",
   "execution_count": 26,
   "metadata": {},
   "outputs": [
    {
     "name": "stdout",
     "output_type": "stream",
     "text": [
      "source\n",
      "Twitter for Android    537\n",
      "Twitter for iPhone     523\n",
      "Twitter Web App        413\n",
      "Revive Social App       81\n",
      "Twitter for iPad        49\n",
      "dtype: int64\n"
     ]
    }
   ],
   "source": [
    "print(tw_mitaka.groupby('source').size().sort_values(ascending=False)[0:5])"
   ]
  },
  {
   "cell_type": "code",
   "execution_count": 27,
   "metadata": {},
   "outputs": [
    {
     "data": {
      "text/plain": [
       "725"
      ]
     },
     "execution_count": 27,
     "metadata": {},
     "output_type": "execute_result"
    }
   ],
   "source": [
    "tw_mitaka['location'].nunique()"
   ]
  },
  {
   "cell_type": "code",
   "execution_count": 90,
   "metadata": {},
   "outputs": [],
   "source": [
    "loc_freq = {}\n",
    "for i in tw_mitaka['location']:\n",
    "    i = str(i).lower()\n",
    "    if i == 'nan':\n",
    "        pass\n",
    "    else:\n",
    "        location_split = i.split()\n",
    "        for word in location_split:\n",
    "            if word not in loc_freq:\n",
    "                loc_freq[word] = 0\n",
    "            loc_freq[word]+=1\n",
    "#Have to remove puncation from each word"
   ]
  },
  {
   "cell_type": "code",
   "execution_count": 92,
   "metadata": {},
   "outputs": [],
   "source": [
    "loc_df = pd.DataFrame(loc_freq.values(), index = loc_freq.keys(), columns=['Frequency'])"
   ]
  },
  {
   "cell_type": "code",
   "execution_count": 94,
   "metadata": {},
   "outputs": [
    {
     "data": {
      "text/html": [
       "<div>\n",
       "<style scoped>\n",
       "    .dataframe tbody tr th:only-of-type {\n",
       "        vertical-align: middle;\n",
       "    }\n",
       "\n",
       "    .dataframe tbody tr th {\n",
       "        vertical-align: top;\n",
       "    }\n",
       "\n",
       "    .dataframe thead th {\n",
       "        text-align: right;\n",
       "    }\n",
       "</style>\n",
       "<table border=\"1\" class=\"dataframe\">\n",
       "  <thead>\n",
       "    <tr style=\"text-align: right;\">\n",
       "      <th></th>\n",
       "      <th>Frequency</th>\n",
       "    </tr>\n",
       "  </thead>\n",
       "  <tbody>\n",
       "    <tr>\n",
       "      <th>japan</th>\n",
       "      <td>98</td>\n",
       "    </tr>\n",
       "    <tr>\n",
       "      <th>she/her</th>\n",
       "      <td>95</td>\n",
       "    </tr>\n",
       "    <tr>\n",
       "      <th>tokyo,</th>\n",
       "      <td>84</td>\n",
       "    </tr>\n",
       "    <tr>\n",
       "      <th>|</th>\n",
       "      <td>73</td>\n",
       "    </tr>\n",
       "    <tr>\n",
       "      <th>20</th>\n",
       "      <td>35</td>\n",
       "    </tr>\n",
       "  </tbody>\n",
       "</table>\n",
       "</div>"
      ],
      "text/plain": [
       "         Frequency\n",
       "japan           98\n",
       "she/her         95\n",
       "tokyo,          84\n",
       "|               73\n",
       "20              35"
      ]
     },
     "execution_count": 94,
     "metadata": {},
     "output_type": "execute_result"
    }
   ],
   "source": [
    "loc_df.sort_values(by = 'Frequency', ascending=False)[0:5]"
   ]
  },
  {
   "cell_type": "code",
   "execution_count": null,
   "metadata": {},
   "outputs": [],
   "source": [
    "gc = geonamescache.GeonamesCache()\n",
    "countries = gc.get_countries()\n",
    "cities = gc.get_cities()\n",
    "states = gc.get_us_states()\n",
    "\n",
    "#Countries\n",
    "#for v in countries.values():\n",
    "#    print(v['iso'], v['name'], v['capital'])\n",
    "\n",
    "#Cities\n",
    "'''\n",
    "for city in cities.values():\n",
    "    print(city['name'])\n",
    "    for altnames in city['alternatenames']:\n",
    "        print(altnames)\n",
    "'''\n",
    "\n",
    "#US States\n",
    "'''\n",
    "for k, v in states.items():\n",
    "    print(v['code'], v['name'])\n",
    "'''"
   ]
  },
  {
   "cell_type": "code",
   "execution_count": null,
   "metadata": {},
   "outputs": [],
   "source": [
    "'''\n",
    "Next Steps:\n",
    "Create visualizations of findings.\n",
    "Time, Source, Score, username maybe (who's tweeting the most?), location (need to clean)\n",
    "\n",
    "Visualizations:\n",
    "\n",
    "Word Frequency.\n",
    "VADER Sentimental Analysis - # of Positives and # negatives\n",
    "\tProvide an example tweet for each.\n",
    "\n",
    "Username frequency\n",
    "Location frequency \n",
    "Source frequency\n",
    "Time of tweets (using SQL is best) - Most active time?\n",
    "'''"
   ]
  }
 ],
 "metadata": {
  "kernelspec": {
   "display_name": "Python 3.10.4 64-bit",
   "language": "python",
   "name": "python3"
  },
  "language_info": {
   "codemirror_mode": {
    "name": "ipython",
    "version": 3
   },
   "file_extension": ".py",
   "mimetype": "text/x-python",
   "name": "python",
   "nbconvert_exporter": "python",
   "pygments_lexer": "ipython3",
   "version": "3.10.4"
  },
  "orig_nbformat": 4,
  "vscode": {
   "interpreter": {
    "hash": "5957fb8699bb8ade38cc9fa17c52bb197a88ed995d3d5124add69fcd13f3a1c9"
   }
  }
 },
 "nbformat": 4,
 "nbformat_minor": 2
}
