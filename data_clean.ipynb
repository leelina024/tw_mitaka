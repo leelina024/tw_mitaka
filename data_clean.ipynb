{
 "cells": [
  {
   "cell_type": "code",
   "execution_count": 129,
   "metadata": {},
   "outputs": [],
   "source": [
    "import pandas as pd\n",
    "import string\n",
    "import re\n",
    "import nltk\n",
    "from nltk.corpus import stopwords\n",
    "from vaderSentiment.vaderSentiment import SentimentIntensityAnalyzer"
   ]
  },
  {
   "cell_type": "markdown",
   "metadata": {},
   "source": [
    "tweet_id - int - index \\\n",
    "username - string\\\n",
    "text - string\\\n",
    "created_at - datetime\\\n",
    "location - string\\\n",
    "source - string\\\n",
    "url - string"
   ]
  },
  {
   "cell_type": "markdown",
   "metadata": {},
   "source": [
    "text - split each sentence into individual words, without whitespace, puncutation, all lowercase.\\\n",
    "Each value of text is a list ['i', 'like', 'coffee']\\\n",
    "create word frequency dictionary ^"
   ]
  },
  {
   "cell_type": "code",
   "execution_count": 131,
   "metadata": {},
   "outputs": [],
   "source": [
    "tw_mitaka = pd.read_csv(\"tw_mitaka1.csv\")\n",
    "tw_mitaka['created_at'] =  pd.to_datetime(tw_mitaka['created_at'])"
   ]
  },
  {
   "cell_type": "code",
   "execution_count": 153,
   "metadata": {},
   "outputs": [],
   "source": [
    "#VADER DF has no modifications on tweet text\n",
    "tw_mitaka_vader = pd.read_csv(\"tw_mitaka1.csv\")"
   ]
  },
  {
   "cell_type": "code",
   "execution_count": 133,
   "metadata": {},
   "outputs": [
    {
     "name": "stdout",
     "output_type": "stream",
     "text": [
      "<class 'pandas.core.frame.DataFrame'>\n",
      "RangeIndex: 939 entries, 0 to 938\n",
      "Data columns (total 7 columns):\n",
      " #   Column      Non-Null Count  Dtype              \n",
      "---  ------      --------------  -----              \n",
      " 0   tweet_id    939 non-null    int64              \n",
      " 1   username    939 non-null    object             \n",
      " 2   text        939 non-null    object             \n",
      " 3   created_at  939 non-null    datetime64[ns, UTC]\n",
      " 4   location    633 non-null    object             \n",
      " 5   source      939 non-null    object             \n",
      " 6   url         939 non-null    object             \n",
      "dtypes: datetime64[ns, UTC](1), int64(1), object(5)\n",
      "memory usage: 51.5+ KB\n"
     ]
    }
   ],
   "source": [
    "tw_mitaka.info()"
   ]
  },
  {
   "cell_type": "code",
   "execution_count": 134,
   "metadata": {},
   "outputs": [
    {
     "data": {
      "text/html": [
       "<div>\n",
       "<style scoped>\n",
       "    .dataframe tbody tr th:only-of-type {\n",
       "        vertical-align: middle;\n",
       "    }\n",
       "\n",
       "    .dataframe tbody tr th {\n",
       "        vertical-align: top;\n",
       "    }\n",
       "\n",
       "    .dataframe thead th {\n",
       "        text-align: right;\n",
       "    }\n",
       "</style>\n",
       "<table border=\"1\" class=\"dataframe\">\n",
       "  <thead>\n",
       "    <tr style=\"text-align: right;\">\n",
       "      <th></th>\n",
       "      <th>tweet_id</th>\n",
       "      <th>username</th>\n",
       "      <th>text</th>\n",
       "      <th>created_at</th>\n",
       "      <th>location</th>\n",
       "      <th>source</th>\n",
       "      <th>url</th>\n",
       "    </tr>\n",
       "  </thead>\n",
       "  <tbody>\n",
       "    <tr>\n",
       "      <th>0</th>\n",
       "      <td>1553777739773186048</td>\n",
       "      <td>Vulpeqxla</td>\n",
       "      <td>i need to draw mitaka again soon or else i wil...</td>\n",
       "      <td>2022-07-31 16:20:55+00:00</td>\n",
       "      <td>they/them ♥</td>\n",
       "      <td>Twitter for iPhone</td>\n",
       "      <td>https://twitter.com/Vulpeqxla/status/155377773...</td>\n",
       "    </tr>\n",
       "    <tr>\n",
       "      <th>1</th>\n",
       "      <td>1553776451186458625</td>\n",
       "      <td>aokisotaa</td>\n",
       "      <td>finally decided to check out the denji edit ta...</td>\n",
       "      <td>2022-07-31 16:15:48+00:00</td>\n",
       "      <td>19, they/she</td>\n",
       "      <td>Twitter for Android</td>\n",
       "      <td>https://twitter.com/aokisotaa/status/155377645...</td>\n",
       "    </tr>\n",
       "    <tr>\n",
       "      <th>2</th>\n",
       "      <td>1553775430276194304</td>\n",
       "      <td>retromanjapan</td>\n",
       "      <td>The Showa Retro In https://t.co/H3BK93ITy6 #wo...</td>\n",
       "      <td>2022-07-31 16:11:44+00:00</td>\n",
       "      <td>Tokyo, Japan</td>\n",
       "      <td>Revive Social App</td>\n",
       "      <td>https://twitter.com/retromanjapan/status/15537...</td>\n",
       "    </tr>\n",
       "    <tr>\n",
       "      <th>3</th>\n",
       "      <td>1553773879650394115</td>\n",
       "      <td>nymphahri</td>\n",
       "      <td>Asa Mitaka ⛓️\\nShould I make the actual cospla...</td>\n",
       "      <td>2022-07-31 16:05:35+00:00</td>\n",
       "      <td>Italia</td>\n",
       "      <td>Twitter for Android</td>\n",
       "      <td>https://twitter.com/nymphahri/status/155377387...</td>\n",
       "    </tr>\n",
       "    <tr>\n",
       "      <th>4</th>\n",
       "      <td>1553756835047690240</td>\n",
       "      <td>moonrcin</td>\n",
       "      <td>mitaka best girl \\n\\n#チェンソーマン #chainsawman htt...</td>\n",
       "      <td>2022-07-31 14:57:51+00:00</td>\n",
       "      <td>🇵🇭</td>\n",
       "      <td>Twitter for iPhone</td>\n",
       "      <td>https://twitter.com/moonrcin/status/1553756835...</td>\n",
       "    </tr>\n",
       "  </tbody>\n",
       "</table>\n",
       "</div>"
      ],
      "text/plain": [
       "              tweet_id       username  \\\n",
       "0  1553777739773186048      Vulpeqxla   \n",
       "1  1553776451186458625      aokisotaa   \n",
       "2  1553775430276194304  retromanjapan   \n",
       "3  1553773879650394115      nymphahri   \n",
       "4  1553756835047690240       moonrcin   \n",
       "\n",
       "                                                text  \\\n",
       "0  i need to draw mitaka again soon or else i wil...   \n",
       "1  finally decided to check out the denji edit ta...   \n",
       "2  The Showa Retro In https://t.co/H3BK93ITy6 #wo...   \n",
       "3  Asa Mitaka ⛓️\\nShould I make the actual cospla...   \n",
       "4  mitaka best girl \\n\\n#チェンソーマン #chainsawman htt...   \n",
       "\n",
       "                 created_at      location               source  \\\n",
       "0 2022-07-31 16:20:55+00:00   they/them ♥   Twitter for iPhone   \n",
       "1 2022-07-31 16:15:48+00:00  19, they/she  Twitter for Android   \n",
       "2 2022-07-31 16:11:44+00:00  Tokyo, Japan    Revive Social App   \n",
       "3 2022-07-31 16:05:35+00:00        Italia  Twitter for Android   \n",
       "4 2022-07-31 14:57:51+00:00            🇵🇭   Twitter for iPhone   \n",
       "\n",
       "                                                 url  \n",
       "0  https://twitter.com/Vulpeqxla/status/155377773...  \n",
       "1  https://twitter.com/aokisotaa/status/155377645...  \n",
       "2  https://twitter.com/retromanjapan/status/15537...  \n",
       "3  https://twitter.com/nymphahri/status/155377387...  \n",
       "4  https://twitter.com/moonrcin/status/1553756835...  "
      ]
     },
     "execution_count": 134,
     "metadata": {},
     "output_type": "execute_result"
    }
   ],
   "source": [
    "tw_mitaka.head()"
   ]
  },
  {
   "cell_type": "code",
   "execution_count": 135,
   "metadata": {},
   "outputs": [],
   "source": [
    "#Stop words, links, emotes, non-ascii characters are removed.\n",
    "stops = set(stopwords.words('english'))\n",
    "\n",
    "for i in range(len(tw_mitaka['text'])):\n",
    "    tweet_text = []\n",
    "    #https://stackoverflow.com/a/24399874\n",
    "    tw_mitaka['text'][i] = re.sub(r'[^\\x00-\\x7f]',r'', tw_mitaka['text'][i])\n",
    "    #https://stackoverflow.com/a/65330690\n",
    "    tw_mitaka['text'][i] = re.sub(r\"http\\S+\", \"\", tw_mitaka['text'][i])\n",
    "    \n",
    "    words = tw_mitaka['text'][i].lower().split()\n",
    "    words = [''.join(letter for letter in word if letter not in (string.punctuation)) for word in words]\n",
    "    for word in words:\n",
    "        if word not in stops:\n",
    "            tweet_text.append(word)\n",
    "    tw_mitaka['text'][i] = tweet_text"
   ]
  },
  {
   "cell_type": "code",
   "execution_count": 136,
   "metadata": {},
   "outputs": [
    {
     "name": "stdout",
     "output_type": "stream",
     "text": [
      "['showa', 'retro', 'mitaka', 'tokyo', '16', 'row', 'house', 'announced', 'therowhousestructure', 'thejrjapanrailwaychuoline']\n"
     ]
    }
   ],
   "source": [
    "print(tw_mitaka['text'][25])"
   ]
  },
  {
   "cell_type": "code",
   "execution_count": 137,
   "metadata": {},
   "outputs": [],
   "source": [
    "#Word frequency dict\n",
    "word_freq = {}\n",
    "\n",
    "for text_list in tw_mitaka['text']:\n",
    "    for word in text_list:\n",
    "        if word not in word_freq:\n",
    "            word_freq[word] = 0\n",
    "        word_freq[word] += 1"
   ]
  },
  {
   "cell_type": "code",
   "execution_count": 138,
   "metadata": {},
   "outputs": [
    {
     "data": {
      "text/plain": [
       "{'need': 18, 'draw': 8, 'mitaka': 413, 'soon': 9, 'else': 8}"
      ]
     },
     "execution_count": 138,
     "metadata": {},
     "output_type": "execute_result"
    }
   ],
   "source": [
    "dict(list(word_freq.items())[0:5])"
   ]
  },
  {
   "cell_type": "code",
   "execution_count": 139,
   "metadata": {},
   "outputs": [],
   "source": [
    "#Creating dataframe from word freq dict\n",
    "df_wordfreq = pd.DataFrame.from_dict(word_freq, orient='index', columns=['Freq'])\n",
    "df_wordfreq = df_wordfreq.drop('')"
   ]
  },
  {
   "cell_type": "code",
   "execution_count": 140,
   "metadata": {},
   "outputs": [
    {
     "data": {
      "text/html": [
       "<div>\n",
       "<style scoped>\n",
       "    .dataframe tbody tr th:only-of-type {\n",
       "        vertical-align: middle;\n",
       "    }\n",
       "\n",
       "    .dataframe tbody tr th {\n",
       "        vertical-align: top;\n",
       "    }\n",
       "\n",
       "    .dataframe thead th {\n",
       "        text-align: right;\n",
       "    }\n",
       "</style>\n",
       "<table border=\"1\" class=\"dataframe\">\n",
       "  <thead>\n",
       "    <tr style=\"text-align: right;\">\n",
       "      <th></th>\n",
       "      <th>Freq</th>\n",
       "    </tr>\n",
       "  </thead>\n",
       "  <tbody>\n",
       "    <tr>\n",
       "      <th>devil</th>\n",
       "      <td>524</td>\n",
       "    </tr>\n",
       "    <tr>\n",
       "      <th>war</th>\n",
       "      <td>524</td>\n",
       "    </tr>\n",
       "    <tr>\n",
       "      <th>mitaka</th>\n",
       "      <td>413</td>\n",
       "    </tr>\n",
       "    <tr>\n",
       "      <th>chainsawman</th>\n",
       "      <td>223</td>\n",
       "    </tr>\n",
       "    <tr>\n",
       "      <th>asa</th>\n",
       "      <td>213</td>\n",
       "    </tr>\n",
       "  </tbody>\n",
       "</table>\n",
       "</div>"
      ],
      "text/plain": [
       "             Freq\n",
       "devil         524\n",
       "war           524\n",
       "mitaka        413\n",
       "chainsawman   223\n",
       "asa           213"
      ]
     },
     "execution_count": 140,
     "metadata": {},
     "output_type": "execute_result"
    }
   ],
   "source": [
    "df_wordfreq.sort_values('Freq', ascending=False).head(5)"
   ]
  },
  {
   "cell_type": "code",
   "execution_count": 151,
   "metadata": {},
   "outputs": [],
   "source": [
    "#Sentimental analysis function with VADER\n",
    "def sentiment_scores(sentence):\n",
    "    sid_obj = SentimentIntensityAnalyzer()\n",
    "    sentiment_dict = sid_obj.polarity_scores(sentence)\n",
    "    if sentiment_dict['compound'] >= 0.05 :\n",
    "        return(\"Positive\")\n",
    "    elif sentiment_dict['compound'] <= -0.05 :\n",
    "        return(\"Negative\")\n",
    "    else :\n",
    "        return(\"Neutral\")"
   ]
  },
  {
   "cell_type": "code",
   "execution_count": 154,
   "metadata": {},
   "outputs": [],
   "source": [
    "#Adding score column for sentiment analysis\n",
    "tw_mitaka_vader = tw_mitaka_vader.reindex(columns = tw_mitaka_vader.columns.tolist() + ['score'])"
   ]
  },
  {
   "cell_type": "code",
   "execution_count": 155,
   "metadata": {},
   "outputs": [],
   "source": [
    "#VADER Sentimental analysis on text. \n",
    "for i in range(len(tw_mitaka_vader['text'])):\n",
    "    tw_mitaka_vader['score'] = sentiment_scores(tw_mitaka_vader['text'][i])"
   ]
  },
  {
   "cell_type": "code",
   "execution_count": 156,
   "metadata": {},
   "outputs": [
    {
     "name": "stdout",
     "output_type": "stream",
     "text": [
      "<class 'pandas.core.frame.DataFrame'>\n",
      "RangeIndex: 939 entries, 0 to 938\n",
      "Data columns (total 8 columns):\n",
      " #   Column      Non-Null Count  Dtype \n",
      "---  ------      --------------  ----- \n",
      " 0   tweet_id    939 non-null    int64 \n",
      " 1   username    939 non-null    object\n",
      " 2   text        939 non-null    object\n",
      " 3   created_at  939 non-null    object\n",
      " 4   location    633 non-null    object\n",
      " 5   source      939 non-null    object\n",
      " 6   url         939 non-null    object\n",
      " 7   score       939 non-null    object\n",
      "dtypes: int64(1), object(7)\n",
      "memory usage: 58.8+ KB\n"
     ]
    }
   ],
   "source": [
    "tw_mitaka_vader.info()"
   ]
  },
  {
   "cell_type": "code",
   "execution_count": 157,
   "metadata": {},
   "outputs": [
    {
     "name": "stdout",
     "output_type": "stream",
     "text": [
      "score\n",
      "Negative    939\n",
      "dtype: int64\n"
     ]
    }
   ],
   "source": [
    "print(tw_mitaka_vader.groupby('score').size())"
   ]
  },
  {
   "cell_type": "code",
   "execution_count": null,
   "metadata": {},
   "outputs": [],
   "source": [
    "#Not sure why only negatives, gotta look into that.\n",
    "#Next query will be on Sunday August 14th. "
   ]
  }
 ],
 "metadata": {
  "kernelspec": {
   "display_name": "Python 3.10.4 64-bit",
   "language": "python",
   "name": "python3"
  },
  "language_info": {
   "codemirror_mode": {
    "name": "ipython",
    "version": 3
   },
   "file_extension": ".py",
   "mimetype": "text/x-python",
   "name": "python",
   "nbconvert_exporter": "python",
   "pygments_lexer": "ipython3",
   "version": "3.10.4"
  },
  "orig_nbformat": 4,
  "vscode": {
   "interpreter": {
    "hash": "5957fb8699bb8ade38cc9fa17c52bb197a88ed995d3d5124add69fcd13f3a1c9"
   }
  }
 },
 "nbformat": 4,
 "nbformat_minor": 2
}
