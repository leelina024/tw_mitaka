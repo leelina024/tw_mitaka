{
 "cells": [
  {
   "cell_type": "code",
   "execution_count": 2,
   "metadata": {},
   "outputs": [],
   "source": [
    "import requests\n",
    "import json\n",
    "import pandas as pd\n",
    "import tweepy"
   ]
  },
  {
   "cell_type": "code",
   "execution_count": 3,
   "metadata": {},
   "outputs": [],
   "source": [
    "with open(r'C:\\Users\\roast\\Desktop\\twitter_keys.txt', 'r') as file:\n",
    "    tokens = file.readlines()\n",
    "API_KEY = tokens[0]\n",
    "API_SECRET = tokens[1]\n",
    "ACCESS_KEY = tokens[2]\n",
    "ACCESS_SECRET = tokens[3]\n",
    "bearer = tokens[4]"
   ]
  },
  {
   "cell_type": "code",
   "execution_count": 4,
   "metadata": {},
   "outputs": [],
   "source": [
    "auth = tweepy.OAuthHandler(API_KEY, API_SECRET)\n",
    "auth.set_access_token(ACCESS_KEY, ACCESS_SECRET)\n",
    "client = tweepy.Client(bearer_token = bearer)"
   ]
  },
  {
   "cell_type": "code",
   "execution_count": 5,
   "metadata": {},
   "outputs": [],
   "source": [
    "def df_response(res):\n",
    "    tw_users1 = {tw_user['id']: tw_user for tw_user in res.includes['users']}\n",
    "    df = pd.DataFrame()\n",
    "\n",
    "    for tweet in res.data:\n",
    "        if tw_users1[tweet.author_id]:\n",
    "            tw_user = tw_users1[tweet.author_id]\n",
    "        temp_dict = {\n",
    "            'tweet_id': [tweet.id],\n",
    "            'username': [tw_user.username],\n",
    "            'text': [tweet.text],\n",
    "            'created_at': [tweet.created_at],\n",
    "            'location': [tw_user.location],\n",
    "            'source': [tweet.source],\n",
    "            'url': [\"https://twitter.com/\"+str(tw_user.username)+\"/status/\"+str(tweet.id)]\n",
    "        }\n",
    "        temp_df = pd.DataFrame(temp_dict)\n",
    "        df = pd.concat([temp_df, df])\n",
    "\n",
    "    return df"
   ]
  },
  {
   "cell_type": "code",
   "execution_count": 6,
   "metadata": {},
   "outputs": [],
   "source": [
    "mitaka_df = pd.DataFrame()\n",
    "query1 = '(#mitaka OR mitaka) -is:retweet -is:quote -is:reply lang:en'\n",
    "last_tw_id = None"
   ]
  },
  {
   "cell_type": "code",
   "execution_count": null,
   "metadata": {},
   "outputs": [],
   "source": [
    "#Creating loop for word: mitaka\n",
    "mitaka_df = pd.DataFrame()\n",
    "query1 = '(#mitaka OR mitaka) -is:retweet -is:quote -is:reply lang:en'\n",
    "last_tw_id = None\n",
    "\n",
    "while mitaka_df.empty:\n",
    "    try:\n",
    "        for i in reversed(range(1,11)):\n",
    "            tweets1 = client.search_recent_tweets(query=query1, max_results = 100, until_id = last_tw_id, \n",
    "                                                user_fields = ['username', 'location'],\n",
    "                                                tweet_fields=['created_at', 'source'],\n",
    "                                                expansions = ['author_id'])\n",
    "            temp_df = df_response(tweets1).sort_values(['created_at'], ascending=False)\n",
    "\n",
    "            last_tw_id = temp_df.iloc[len(temp_df)-1]['tweet_id']\n",
    "            \n",
    "            mitaka_df = pd.concat([temp_df, mitaka_df])\n",
    "    except KeyError:\n",
    "        pass"
   ]
  },
  {
   "cell_type": "code",
   "execution_count": 10,
   "metadata": {},
   "outputs": [
    {
     "data": {
      "text/plain": [
       "tweet_id      355\n",
       "username      262\n",
       "text          344\n",
       "created_at    352\n",
       "location      183\n",
       "source         16\n",
       "url           355\n",
       "dtype: int64"
      ]
     },
     "execution_count": 10,
     "metadata": {},
     "output_type": "execute_result"
    }
   ],
   "source": [
    "mitaka_df.nunique()"
   ]
  },
  {
   "cell_type": "code",
   "execution_count": 11,
   "metadata": {},
   "outputs": [
    {
     "data": {
      "text/plain": [
       "tweet_id                                    1556310010753208321\n",
       "username                                          kamadohamtaro\n",
       "text          Asa mitaka means seeing dawn.....sorry bad jap...\n",
       "created_at                            2022-08-07 16:03:16+00:00\n",
       "location                                                    21+\n",
       "source                                      Twitter for Android\n",
       "url           https://twitter.com/kamadohamtaro/status/15563...\n",
       "Name: 0, dtype: object"
      ]
     },
     "execution_count": 11,
     "metadata": {},
     "output_type": "execute_result"
    }
   ],
   "source": [
    "mitaka_df.sort_values(['created_at'], ascending=False).iloc[0] #Most Recent Tweet"
   ]
  },
  {
   "cell_type": "code",
   "execution_count": 15,
   "metadata": {},
   "outputs": [
    {
     "data": {
      "text/plain": [
       "tweet_id                                    1553787466410332161\n",
       "username                                                 aecamn\n",
       "text            I love seeing mitaka pfps in the wild on tiktok\n",
       "created_at                            2022-07-31 16:59:34+00:00\n",
       "location                                           20 | she/her\n",
       "source                                       Twitter for iPhone\n",
       "url           https://twitter.com/aecamn/status/155378746641...\n",
       "Name: 0, dtype: object"
      ]
     },
     "execution_count": 15,
     "metadata": {},
     "output_type": "execute_result"
    }
   ],
   "source": [
    "mitaka_df.sort_values(['created_at'], ascending=False).iloc[len(mitaka_df)-1] #Last tweet queried by API allowable"
   ]
  },
  {
   "cell_type": "code",
   "execution_count": 13,
   "metadata": {},
   "outputs": [
    {
     "data": {
      "text/html": [
       "<div>\n",
       "<style scoped>\n",
       "    .dataframe tbody tr th:only-of-type {\n",
       "        vertical-align: middle;\n",
       "    }\n",
       "\n",
       "    .dataframe tbody tr th {\n",
       "        vertical-align: top;\n",
       "    }\n",
       "\n",
       "    .dataframe thead th {\n",
       "        text-align: right;\n",
       "    }\n",
       "</style>\n",
       "<table border=\"1\" class=\"dataframe\">\n",
       "  <thead>\n",
       "    <tr style=\"text-align: right;\">\n",
       "      <th></th>\n",
       "      <th>tweet_id</th>\n",
       "      <th>username</th>\n",
       "      <th>text</th>\n",
       "      <th>created_at</th>\n",
       "      <th>location</th>\n",
       "      <th>source</th>\n",
       "      <th>url</th>\n",
       "    </tr>\n",
       "  </thead>\n",
       "  <tbody>\n",
       "    <tr>\n",
       "      <th>0</th>\n",
       "      <td>1554430568087130115</td>\n",
       "      <td>Kejranaros</td>\n",
       "      <td>asa mitaka (war devil) edit // the perfect gir...</td>\n",
       "      <td>2022-08-02 11:35:02+00:00</td>\n",
       "      <td>None</td>\n",
       "      <td>Coub</td>\n",
       "      <td>https://twitter.com/Kejranaros/status/15544305...</td>\n",
       "    </tr>\n",
       "    <tr>\n",
       "      <th>0</th>\n",
       "      <td>1554428314210766849</td>\n",
       "      <td>ArcadaFox</td>\n",
       "      <td>Every week I go through the cycle of “oh I lov...</td>\n",
       "      <td>2022-08-02 11:26:04+00:00</td>\n",
       "      <td>Georgia, USA</td>\n",
       "      <td>Twitter for iPhone</td>\n",
       "      <td>https://twitter.com/ArcadaFox/status/155442831...</td>\n",
       "    </tr>\n",
       "    <tr>\n",
       "      <th>0</th>\n",
       "      <td>1554417416427667457</td>\n",
       "      <td>ultramarynna</td>\n",
       "      <td>mitaka tuesday hooray https://t.co/uKvNTnZOA8</td>\n",
       "      <td>2022-08-02 10:42:46+00:00</td>\n",
       "      <td>Yanni · she/her 25↑</td>\n",
       "      <td>Twitter Web App</td>\n",
       "      <td>https://twitter.com/ultramarynna/status/155441...</td>\n",
       "    </tr>\n",
       "    <tr>\n",
       "      <th>0</th>\n",
       "      <td>1554406601821388800</td>\n",
       "      <td>rainyxink</td>\n",
       "      <td>is there a ship tag for mitaka and war I feel ...</td>\n",
       "      <td>2022-08-02 09:59:48+00:00</td>\n",
       "      <td>aroace - 23 - rey</td>\n",
       "      <td>Twitter for iPhone</td>\n",
       "      <td>https://twitter.com/rainyxink/status/155440660...</td>\n",
       "    </tr>\n",
       "    <tr>\n",
       "      <th>0</th>\n",
       "      <td>1554405676239278080</td>\n",
       "      <td>Sn1ke__</td>\n",
       "      <td>Asa Mitaka, The war devil\\nFirst Fan art \\n#ch...</td>\n",
       "      <td>2022-08-02 09:56:07+00:00</td>\n",
       "      <td>In my house</td>\n",
       "      <td>Twitter for Android</td>\n",
       "      <td>https://twitter.com/Sn1ke__/status/15544056762...</td>\n",
       "    </tr>\n",
       "  </tbody>\n",
       "</table>\n",
       "</div>"
      ],
      "text/plain": [
       "              tweet_id      username  \\\n",
       "0  1554430568087130115    Kejranaros   \n",
       "0  1554428314210766849     ArcadaFox   \n",
       "0  1554417416427667457  ultramarynna   \n",
       "0  1554406601821388800     rainyxink   \n",
       "0  1554405676239278080       Sn1ke__   \n",
       "\n",
       "                                                text  \\\n",
       "0  asa mitaka (war devil) edit // the perfect gir...   \n",
       "0  Every week I go through the cycle of “oh I lov...   \n",
       "0      mitaka tuesday hooray https://t.co/uKvNTnZOA8   \n",
       "0  is there a ship tag for mitaka and war I feel ...   \n",
       "0  Asa Mitaka, The war devil\\nFirst Fan art \\n#ch...   \n",
       "\n",
       "                 created_at             location               source  \\\n",
       "0 2022-08-02 11:35:02+00:00                 None                Coub    \n",
       "0 2022-08-02 11:26:04+00:00         Georgia, USA   Twitter for iPhone   \n",
       "0 2022-08-02 10:42:46+00:00  Yanni · she/her 25↑      Twitter Web App   \n",
       "0 2022-08-02 09:59:48+00:00    aroace - 23 - rey   Twitter for iPhone   \n",
       "0 2022-08-02 09:56:07+00:00          In my house  Twitter for Android   \n",
       "\n",
       "                                                 url  \n",
       "0  https://twitter.com/Kejranaros/status/15544305...  \n",
       "0  https://twitter.com/ArcadaFox/status/155442831...  \n",
       "0  https://twitter.com/ultramarynna/status/155441...  \n",
       "0  https://twitter.com/rainyxink/status/155440660...  \n",
       "0  https://twitter.com/Sn1ke__/status/15544056762...  "
      ]
     },
     "execution_count": 13,
     "metadata": {},
     "output_type": "execute_result"
    }
   ],
   "source": [
    "mitaka_df.head()"
   ]
  },
  {
   "cell_type": "code",
   "execution_count": 19,
   "metadata": {},
   "outputs": [],
   "source": [
    "#Creating loop for word: asa mitaka\n",
    "asamitaka_df = pd.DataFrame()\n",
    "query2 = '(asamitaka OR \"asa mitaka\" OR #asamitaka) -is:retweet -is:quote -is:reply lang:en'\n",
    "last_tw_id = None\n",
    "\n",
    "while asamitaka_df.empty:\n",
    "    try:\n",
    "        for i in reversed(range(1,11)):\n",
    "            tweets2 = client.search_recent_tweets(query=query2, max_results = 100, until_id = last_tw_id,\n",
    "                                            user_fields = ['username', 'location'],\n",
    "                                            tweet_fields=['created_at', 'source'],\n",
    "                                            expansions = ['author_id'])\n",
    "            temp_df = df_response(tweets2).sort_values(['created_at'], ascending=False)\n",
    "            last_tw_id = temp_df.iloc[len(temp_df)-1]['tweet_id']\n",
    "                \n",
    "            asamitaka_df = pd.concat([temp_df, asamitaka_df])\n",
    "    except KeyError:\n",
    "        pass"
   ]
  },
  {
   "cell_type": "code",
   "execution_count": 20,
   "metadata": {},
   "outputs": [
    {
     "data": {
      "text/plain": [
       "(147, 7)"
      ]
     },
     "execution_count": 20,
     "metadata": {},
     "output_type": "execute_result"
    }
   ],
   "source": [
    "asamitaka_df.shape"
   ]
  },
  {
   "cell_type": "code",
   "execution_count": 21,
   "metadata": {},
   "outputs": [
    {
     "data": {
      "text/plain": [
       "tweet_id                                    1556310010753208321\n",
       "username                                          kamadohamtaro\n",
       "text          Asa mitaka means seeing dawn.....sorry bad jap...\n",
       "created_at                            2022-08-07 16:03:16+00:00\n",
       "location                                                    21+\n",
       "source                                      Twitter for Android\n",
       "url           https://twitter.com/kamadohamtaro/status/15563...\n",
       "Name: 0, dtype: object"
      ]
     },
     "execution_count": 21,
     "metadata": {},
     "output_type": "execute_result"
    }
   ],
   "source": [
    "asamitaka_df.sort_values(['created_at'], ascending=False).iloc[0]"
   ]
  },
  {
   "cell_type": "code",
   "execution_count": 22,
   "metadata": {},
   "outputs": [
    {
     "data": {
      "text/plain": [
       "tweet_id                                    1553789795947741184\n",
       "username                                             virtudroid\n",
       "text          my fyp on tiktok has never been worse than day...\n",
       "created_at                            2022-07-31 17:08:50+00:00\n",
       "location                                                 A🖤🖤🖤🖤🖤\n",
       "source                                       Twitter for iPhone\n",
       "url           https://twitter.com/virtudroid/status/15537897...\n",
       "Name: 0, dtype: object"
      ]
     },
     "execution_count": 22,
     "metadata": {},
     "output_type": "execute_result"
    }
   ],
   "source": [
    "#Last tweet queried by API allowable\n",
    "asamitaka_df.sort_values(['created_at'], ascending=False).iloc[len(asamitaka_df)-1] "
   ]
  },
  {
   "cell_type": "code",
   "execution_count": 23,
   "metadata": {},
   "outputs": [
    {
     "data": {
      "text/html": [
       "<div>\n",
       "<style scoped>\n",
       "    .dataframe tbody tr th:only-of-type {\n",
       "        vertical-align: middle;\n",
       "    }\n",
       "\n",
       "    .dataframe tbody tr th {\n",
       "        vertical-align: top;\n",
       "    }\n",
       "\n",
       "    .dataframe thead th {\n",
       "        text-align: right;\n",
       "    }\n",
       "</style>\n",
       "<table border=\"1\" class=\"dataframe\">\n",
       "  <thead>\n",
       "    <tr style=\"text-align: right;\">\n",
       "      <th></th>\n",
       "      <th>tweet_id</th>\n",
       "      <th>username</th>\n",
       "      <th>text</th>\n",
       "      <th>created_at</th>\n",
       "      <th>location</th>\n",
       "      <th>source</th>\n",
       "      <th>url</th>\n",
       "    </tr>\n",
       "  </thead>\n",
       "  <tbody>\n",
       "    <tr>\n",
       "      <th>0</th>\n",
       "      <td>1554543223409893378</td>\n",
       "      <td>Rod_anderis</td>\n",
       "      <td>The Best Online Manga Courses\\n👇\\nhttps://t.co...</td>\n",
       "      <td>2022-08-02 19:02:41+00:00</td>\n",
       "      <td>None</td>\n",
       "      <td>Twitter for Android</td>\n",
       "      <td>https://twitter.com/Rod_anderis/status/1554543...</td>\n",
       "    </tr>\n",
       "    <tr>\n",
       "      <th>0</th>\n",
       "      <td>1554540646249160704</td>\n",
       "      <td>paintsawman</td>\n",
       "      <td>We're back with our very first Chainsaw Man Pa...</td>\n",
       "      <td>2022-08-02 18:52:26+00:00</td>\n",
       "      <td>None</td>\n",
       "      <td>Twitter Web App</td>\n",
       "      <td>https://twitter.com/paintsawman/status/1554540...</td>\n",
       "    </tr>\n",
       "    <tr>\n",
       "      <th>0</th>\n",
       "      <td>1554540098149961728</td>\n",
       "      <td>byakkomarru</td>\n",
       "      <td>just you wait chainsaw man. 🪚🧍🏼\\n\\n#chainsawma...</td>\n",
       "      <td>2022-08-02 18:50:16+00:00</td>\n",
       "      <td>taqi she/her 22</td>\n",
       "      <td>Twitter for iPhone</td>\n",
       "      <td>https://twitter.com/byakkomarru/status/1554540...</td>\n",
       "    </tr>\n",
       "    <tr>\n",
       "      <th>0</th>\n",
       "      <td>1554528996603400195</td>\n",
       "      <td>BlueTempest_</td>\n",
       "      <td>Streaming the new #ChainsawMan chapter TONIGHT...</td>\n",
       "      <td>2022-08-02 18:06:09+00:00</td>\n",
       "      <td>None</td>\n",
       "      <td>Twitter for iPhone</td>\n",
       "      <td>https://twitter.com/BlueTempest_/status/155452...</td>\n",
       "    </tr>\n",
       "    <tr>\n",
       "      <th>0</th>\n",
       "      <td>1554518499816800256</td>\n",
       "      <td>stsgou</td>\n",
       "      <td>omfg AAAAAAAAA what keeps me going is knowing ...</td>\n",
       "      <td>2022-08-02 17:24:26+00:00</td>\n",
       "      <td>None</td>\n",
       "      <td>Twitter for Android</td>\n",
       "      <td>https://twitter.com/stsgou/status/155451849981...</td>\n",
       "    </tr>\n",
       "  </tbody>\n",
       "</table>\n",
       "</div>"
      ],
      "text/plain": [
       "              tweet_id      username  \\\n",
       "0  1554543223409893378   Rod_anderis   \n",
       "0  1554540646249160704   paintsawman   \n",
       "0  1554540098149961728   byakkomarru   \n",
       "0  1554528996603400195  BlueTempest_   \n",
       "0  1554518499816800256        stsgou   \n",
       "\n",
       "                                                text  \\\n",
       "0  The Best Online Manga Courses\\n👇\\nhttps://t.co...   \n",
       "0  We're back with our very first Chainsaw Man Pa...   \n",
       "0  just you wait chainsaw man. 🪚🧍🏼\\n\\n#chainsawma...   \n",
       "0  Streaming the new #ChainsawMan chapter TONIGHT...   \n",
       "0  omfg AAAAAAAAA what keeps me going is knowing ...   \n",
       "\n",
       "                 created_at         location               source  \\\n",
       "0 2022-08-02 19:02:41+00:00             None  Twitter for Android   \n",
       "0 2022-08-02 18:52:26+00:00             None      Twitter Web App   \n",
       "0 2022-08-02 18:50:16+00:00  taqi she/her 22   Twitter for iPhone   \n",
       "0 2022-08-02 18:06:09+00:00             None   Twitter for iPhone   \n",
       "0 2022-08-02 17:24:26+00:00             None  Twitter for Android   \n",
       "\n",
       "                                                 url  \n",
       "0  https://twitter.com/Rod_anderis/status/1554543...  \n",
       "0  https://twitter.com/paintsawman/status/1554540...  \n",
       "0  https://twitter.com/byakkomarru/status/1554540...  \n",
       "0  https://twitter.com/BlueTempest_/status/155452...  \n",
       "0  https://twitter.com/stsgou/status/155451849981...  "
      ]
     },
     "execution_count": 23,
     "metadata": {},
     "output_type": "execute_result"
    }
   ],
   "source": [
    "asamitaka_df.head()"
   ]
  },
  {
   "cell_type": "code",
   "execution_count": 24,
   "metadata": {},
   "outputs": [],
   "source": [
    "#Creating loop for word: mitaka asa\n",
    "mitakaasa_df = pd.DataFrame()\n",
    "query3 = '(mitakaasa OR \"mitaka asa\" OR #mitakaasa) -is:retweet -is:quote -is:reply lang:en'\n",
    "last_tw_id = None\n",
    "\n",
    "while mitakaasa_df.empty:\n",
    "    try:\n",
    "        for i in reversed(range(1,11)):\n",
    "            tweets3 = client.search_recent_tweets(query=query3, max_results = 100, until_id = last_tw_id,\n",
    "                                            user_fields = ['username', 'location'],\n",
    "                                            tweet_fields=['created_at', 'source'],\n",
    "                                            expansions = ['author_id'])\n",
    "            temp_df = df_response(tweets3).sort_values(['created_at'], ascending=False)\n",
    "            last_tw_id = temp_df.iloc[len(temp_df)-1]['tweet_id']\n",
    "                \n",
    "            mitakaasa_df = pd.concat([temp_df, mitakaasa_df])\n",
    "    except KeyError:\n",
    "        pass"
   ]
  },
  {
   "cell_type": "code",
   "execution_count": 25,
   "metadata": {},
   "outputs": [
    {
     "data": {
      "text/plain": [
       "(15, 7)"
      ]
     },
     "execution_count": 25,
     "metadata": {},
     "output_type": "execute_result"
    }
   ],
   "source": [
    "mitakaasa_df.shape"
   ]
  },
  {
   "cell_type": "code",
   "execution_count": 26,
   "metadata": {},
   "outputs": [
    {
     "data": {
      "text/plain": [
       "tweet_id                                    1556054576364539904\n",
       "username                                                lalayri\n",
       "text          I LOOK SM LIKE MITAKA ASA (AND WAR DEVIL TO AN...\n",
       "created_at                            2022-08-06 23:08:15+00:00\n",
       "location                                                   None\n",
       "source                                      Twitter for Android\n",
       "url           https://twitter.com/lalayri/status/15560545763...\n",
       "Name: 0, dtype: object"
      ]
     },
     "execution_count": 26,
     "metadata": {},
     "output_type": "execute_result"
    }
   ],
   "source": [
    "mitakaasa_df.sort_values(['created_at'], ascending=False).iloc[0]"
   ]
  },
  {
   "cell_type": "code",
   "execution_count": 27,
   "metadata": {},
   "outputs": [
    {
     "data": {
      "text/plain": [
       "tweet_id                                    1553829138124967936\n",
       "username                                                dnbooru\n",
       "text          World\\n#chainsaw_man\\nCharacter\\n#mitaka_asa\\n...\n",
       "created_at                            2022-07-31 19:45:09+00:00\n",
       "location                                                  Tokyo\n",
       "source                                             Danbooru Bot\n",
       "url           https://twitter.com/dnbooru/status/15538291381...\n",
       "Name: 0, dtype: object"
      ]
     },
     "execution_count": 27,
     "metadata": {},
     "output_type": "execute_result"
    }
   ],
   "source": [
    "#Last tweet queried by API allowable\n",
    "mitakaasa_df.sort_values(['created_at'], ascending=False).iloc[len(mitakaasa_df)-1] "
   ]
  },
  {
   "cell_type": "code",
   "execution_count": 28,
   "metadata": {},
   "outputs": [
    {
     "data": {
      "text/html": [
       "<div>\n",
       "<style scoped>\n",
       "    .dataframe tbody tr th:only-of-type {\n",
       "        vertical-align: middle;\n",
       "    }\n",
       "\n",
       "    .dataframe tbody tr th {\n",
       "        vertical-align: top;\n",
       "    }\n",
       "\n",
       "    .dataframe thead th {\n",
       "        text-align: right;\n",
       "    }\n",
       "</style>\n",
       "<table border=\"1\" class=\"dataframe\">\n",
       "  <thead>\n",
       "    <tr style=\"text-align: right;\">\n",
       "      <th></th>\n",
       "      <th>tweet_id</th>\n",
       "      <th>username</th>\n",
       "      <th>text</th>\n",
       "      <th>created_at</th>\n",
       "      <th>location</th>\n",
       "      <th>source</th>\n",
       "      <th>url</th>\n",
       "    </tr>\n",
       "  </thead>\n",
       "  <tbody>\n",
       "    <tr>\n",
       "      <th>0</th>\n",
       "      <td>1556054576364539904</td>\n",
       "      <td>lalayri</td>\n",
       "      <td>I LOOK SM LIKE MITAKA ASA (AND WAR DEVIL TO AN...</td>\n",
       "      <td>2022-08-06 23:08:15+00:00</td>\n",
       "      <td>None</td>\n",
       "      <td>Twitter for Android</td>\n",
       "      <td>https://twitter.com/lalayri/status/15560545763...</td>\n",
       "    </tr>\n",
       "    <tr>\n",
       "      <th>0</th>\n",
       "      <td>1555983203319554048</td>\n",
       "      <td>mitakaeveryday</td>\n",
       "      <td>anything for her \\n#mitaka #mitakaasa #mitaka_...</td>\n",
       "      <td>2022-08-06 18:24:39+00:00</td>\n",
       "      <td>None</td>\n",
       "      <td>Twitter for iPhone</td>\n",
       "      <td>https://twitter.com/mitakaeveryday/status/1555...</td>\n",
       "    </tr>\n",
       "    <tr>\n",
       "      <th>0</th>\n",
       "      <td>1555842171219365888</td>\n",
       "      <td>Kaisu09</td>\n",
       "      <td>chainsawman messy sketch by me\\n\\n#chainsawman...</td>\n",
       "      <td>2022-08-06 09:04:14+00:00</td>\n",
       "      <td>None</td>\n",
       "      <td>Twitter Web App</td>\n",
       "      <td>https://twitter.com/Kaisu09/status/15558421712...</td>\n",
       "    </tr>\n",
       "    <tr>\n",
       "      <th>0</th>\n",
       "      <td>1555832308821020673</td>\n",
       "      <td>Mizyaya23</td>\n",
       "      <td>Soon!!\\n#CSM #mitaka_asa https://t.co/vTbpajVjLP</td>\n",
       "      <td>2022-08-06 08:25:03+00:00</td>\n",
       "      <td>None</td>\n",
       "      <td>Twitter for Android</td>\n",
       "      <td>https://twitter.com/Mizyaya23/status/155583230...</td>\n",
       "    </tr>\n",
       "    <tr>\n",
       "      <th>0</th>\n",
       "      <td>1555670538278047744</td>\n",
       "      <td>NightcoreR45</td>\n",
       "      <td>Makima or Mitaka asa🩸\\n❤️Watch my video Chains...</td>\n",
       "      <td>2022-08-05 21:42:13+00:00</td>\n",
       "      <td>None</td>\n",
       "      <td>Twitter for Android</td>\n",
       "      <td>https://twitter.com/NightcoreR45/status/155567...</td>\n",
       "    </tr>\n",
       "  </tbody>\n",
       "</table>\n",
       "</div>"
      ],
      "text/plain": [
       "              tweet_id        username  \\\n",
       "0  1556054576364539904         lalayri   \n",
       "0  1555983203319554048  mitakaeveryday   \n",
       "0  1555842171219365888         Kaisu09   \n",
       "0  1555832308821020673       Mizyaya23   \n",
       "0  1555670538278047744    NightcoreR45   \n",
       "\n",
       "                                                text  \\\n",
       "0  I LOOK SM LIKE MITAKA ASA (AND WAR DEVIL TO AN...   \n",
       "0  anything for her \\n#mitaka #mitakaasa #mitaka_...   \n",
       "0  chainsawman messy sketch by me\\n\\n#chainsawman...   \n",
       "0   Soon!!\\n#CSM #mitaka_asa https://t.co/vTbpajVjLP   \n",
       "0  Makima or Mitaka asa🩸\\n❤️Watch my video Chains...   \n",
       "\n",
       "                 created_at location               source  \\\n",
       "0 2022-08-06 23:08:15+00:00     None  Twitter for Android   \n",
       "0 2022-08-06 18:24:39+00:00     None   Twitter for iPhone   \n",
       "0 2022-08-06 09:04:14+00:00     None      Twitter Web App   \n",
       "0 2022-08-06 08:25:03+00:00     None  Twitter for Android   \n",
       "0 2022-08-05 21:42:13+00:00     None  Twitter for Android   \n",
       "\n",
       "                                                 url  \n",
       "0  https://twitter.com/lalayri/status/15560545763...  \n",
       "0  https://twitter.com/mitakaeveryday/status/1555...  \n",
       "0  https://twitter.com/Kaisu09/status/15558421712...  \n",
       "0  https://twitter.com/Mizyaya23/status/155583230...  \n",
       "0  https://twitter.com/NightcoreR45/status/155567...  "
      ]
     },
     "execution_count": 28,
     "metadata": {},
     "output_type": "execute_result"
    }
   ],
   "source": [
    "mitakaasa_df.head()"
   ]
  },
  {
   "cell_type": "code",
   "execution_count": 29,
   "metadata": {},
   "outputs": [],
   "source": [
    "#Creating loop for word: war devil\n",
    "wardevil_df = pd.DataFrame()\n",
    "query4 = '(wardevil OR \"war devil\" OR #wardevil) -is:retweet -is:quote -is:reply lang:en'\n",
    "last_tw_id = 1555714802068201473\n",
    "\n",
    "while wardevil_df.empty:\n",
    "    try:\n",
    "        for i in reversed(range(1,11)):\n",
    "            tweets4 = client.search_recent_tweets(query=query4, max_results = 100, until_id = last_tw_id,\n",
    "                                            user_fields = ['username', 'location'],\n",
    "                                            tweet_fields=['created_at', 'source'],\n",
    "                                            expansions = ['author_id'])\n",
    "            temp_df = df_response(tweets4).sort_values(['created_at'], ascending=False)\n",
    "            last_tw_id = temp_df.iloc[len(temp_df)-1]['tweet_id']\n",
    "                \n",
    "            wardevil_df = pd.concat([temp_df, wardevil_df])\n",
    "    except KeyError:\n",
    "        pass"
   ]
  },
  {
   "cell_type": "code",
   "execution_count": 30,
   "metadata": {},
   "outputs": [
    {
     "data": {
      "text/plain": [
       "(462, 7)"
      ]
     },
     "execution_count": 30,
     "metadata": {},
     "output_type": "execute_result"
    }
   ],
   "source": [
    "wardevil_df.shape"
   ]
  },
  {
   "cell_type": "code",
   "execution_count": 31,
   "metadata": {},
   "outputs": [
    {
     "data": {
      "text/plain": [
       "tweet_id                                    1555702289012228097\n",
       "username                                                rifuzas\n",
       "text          to me the only things scarier than a War Devil...\n",
       "created_at                            2022-08-05 23:48:23+00:00\n",
       "location                                                   None\n",
       "source                                          Twitter Web App\n",
       "url           https://twitter.com/rifuzas/status/15557022890...\n",
       "Name: 0, dtype: object"
      ]
     },
     "execution_count": 31,
     "metadata": {},
     "output_type": "execute_result"
    }
   ],
   "source": [
    "wardevil_df.sort_values(['created_at'], ascending=False).iloc[0]"
   ]
  },
  {
   "cell_type": "code",
   "execution_count": 33,
   "metadata": {},
   "outputs": [
    {
     "data": {
      "text/plain": [
       "tweet_id                                    1553799138751422464\n",
       "username                                           spittinglass\n",
       "text          she’s so cool thank u fujimoto &lt;3 #chainsaw...\n",
       "created_at                            2022-07-31 17:45:57+00:00\n",
       "location                           he/they/it, problematicville\n",
       "source                                       Twitter for iPhone\n",
       "url           https://twitter.com/spittinglass/status/155379...\n",
       "Name: 0, dtype: object"
      ]
     },
     "execution_count": 33,
     "metadata": {},
     "output_type": "execute_result"
    }
   ],
   "source": [
    "#Last tweet queried by API allowable\n",
    "wardevil_df.sort_values(['created_at'], ascending=False).iloc[len(wardevil_df)-1] "
   ]
  },
  {
   "cell_type": "code",
   "execution_count": 34,
   "metadata": {},
   "outputs": [
    {
     "data": {
      "text/html": [
       "<div>\n",
       "<style scoped>\n",
       "    .dataframe tbody tr th:only-of-type {\n",
       "        vertical-align: middle;\n",
       "    }\n",
       "\n",
       "    .dataframe tbody tr th {\n",
       "        vertical-align: top;\n",
       "    }\n",
       "\n",
       "    .dataframe thead th {\n",
       "        text-align: right;\n",
       "    }\n",
       "</style>\n",
       "<table border=\"1\" class=\"dataframe\">\n",
       "  <thead>\n",
       "    <tr style=\"text-align: right;\">\n",
       "      <th></th>\n",
       "      <th>tweet_id</th>\n",
       "      <th>username</th>\n",
       "      <th>text</th>\n",
       "      <th>created_at</th>\n",
       "      <th>location</th>\n",
       "      <th>source</th>\n",
       "      <th>url</th>\n",
       "    </tr>\n",
       "  </thead>\n",
       "  <tbody>\n",
       "    <tr>\n",
       "      <th>0</th>\n",
       "      <td>1554430568087130115</td>\n",
       "      <td>Kejranaros</td>\n",
       "      <td>asa mitaka (war devil) edit // the perfect gir...</td>\n",
       "      <td>2022-08-02 11:35:02+00:00</td>\n",
       "      <td>None</td>\n",
       "      <td>Coub</td>\n",
       "      <td>https://twitter.com/Kejranaros/status/15544305...</td>\n",
       "    </tr>\n",
       "    <tr>\n",
       "      <th>0</th>\n",
       "      <td>1554405676239278080</td>\n",
       "      <td>Sn1ke__</td>\n",
       "      <td>Asa Mitaka, The war devil\\nFirst Fan art \\n#ch...</td>\n",
       "      <td>2022-08-02 09:56:07+00:00</td>\n",
       "      <td>In my house</td>\n",
       "      <td>Twitter for Android</td>\n",
       "      <td>https://twitter.com/Sn1ke__/status/15544056762...</td>\n",
       "    </tr>\n",
       "    <tr>\n",
       "      <th>0</th>\n",
       "      <td>1554377172114034688</td>\n",
       "      <td>loveabyssal</td>\n",
       "      <td>My name is War Devil! Die for my warm-up kill!</td>\n",
       "      <td>2022-08-02 08:02:51+00:00</td>\n",
       "      <td>ic: mazamuno → qt count: 49</td>\n",
       "      <td>Cheap Bots, Done Quick!</td>\n",
       "      <td>https://twitter.com/loveabyssal/status/1554377...</td>\n",
       "    </tr>\n",
       "    <tr>\n",
       "      <th>0</th>\n",
       "      <td>1554376462089822208</td>\n",
       "      <td>Curecos_COT</td>\n",
       "      <td>✨Cosplay News✨ \\n'帅嘤嘤' shows off her #wardevil...</td>\n",
       "      <td>2022-08-02 08:00:02+00:00</td>\n",
       "      <td>Tokyo, Japan</td>\n",
       "      <td>Twitter Web App</td>\n",
       "      <td>https://twitter.com/Curecos_COT/status/1554376...</td>\n",
       "    </tr>\n",
       "    <tr>\n",
       "      <th>0</th>\n",
       "      <td>1554370967652237314</td>\n",
       "      <td>chaimsawman</td>\n",
       "      <td>denji when he meets the war devil  https://t.c...</td>\n",
       "      <td>2022-08-02 07:38:12+00:00</td>\n",
       "      <td>21↑ she/her • no minors! 🤺</td>\n",
       "      <td>Twitter for iPhone</td>\n",
       "      <td>https://twitter.com/chaimsawman/status/1554370...</td>\n",
       "    </tr>\n",
       "  </tbody>\n",
       "</table>\n",
       "</div>"
      ],
      "text/plain": [
       "              tweet_id     username  \\\n",
       "0  1554430568087130115   Kejranaros   \n",
       "0  1554405676239278080      Sn1ke__   \n",
       "0  1554377172114034688  loveabyssal   \n",
       "0  1554376462089822208  Curecos_COT   \n",
       "0  1554370967652237314  chaimsawman   \n",
       "\n",
       "                                                text  \\\n",
       "0  asa mitaka (war devil) edit // the perfect gir...   \n",
       "0  Asa Mitaka, The war devil\\nFirst Fan art \\n#ch...   \n",
       "0     My name is War Devil! Die for my warm-up kill!   \n",
       "0  ✨Cosplay News✨ \\n'帅嘤嘤' shows off her #wardevil...   \n",
       "0  denji when he meets the war devil  https://t.c...   \n",
       "\n",
       "                 created_at                     location  \\\n",
       "0 2022-08-02 11:35:02+00:00                         None   \n",
       "0 2022-08-02 09:56:07+00:00                  In my house   \n",
       "0 2022-08-02 08:02:51+00:00  ic: mazamuno → qt count: 49   \n",
       "0 2022-08-02 08:00:02+00:00                 Tokyo, Japan   \n",
       "0 2022-08-02 07:38:12+00:00   21↑ she/her • no minors! 🤺   \n",
       "\n",
       "                    source                                                url  \n",
       "0                    Coub   https://twitter.com/Kejranaros/status/15544305...  \n",
       "0      Twitter for Android  https://twitter.com/Sn1ke__/status/15544056762...  \n",
       "0  Cheap Bots, Done Quick!  https://twitter.com/loveabyssal/status/1554377...  \n",
       "0          Twitter Web App  https://twitter.com/Curecos_COT/status/1554376...  \n",
       "0       Twitter for iPhone  https://twitter.com/chaimsawman/status/1554370...  "
      ]
     },
     "execution_count": 34,
     "metadata": {},
     "output_type": "execute_result"
    }
   ],
   "source": [
    "wardevil_df.head()"
   ]
  },
  {
   "cell_type": "code",
   "execution_count": 35,
   "metadata": {},
   "outputs": [
    {
     "data": {
      "text/html": [
       "<div>\n",
       "<style scoped>\n",
       "    .dataframe tbody tr th:only-of-type {\n",
       "        vertical-align: middle;\n",
       "    }\n",
       "\n",
       "    .dataframe tbody tr th {\n",
       "        vertical-align: top;\n",
       "    }\n",
       "\n",
       "    .dataframe thead th {\n",
       "        text-align: right;\n",
       "    }\n",
       "</style>\n",
       "<table border=\"1\" class=\"dataframe\">\n",
       "  <thead>\n",
       "    <tr style=\"text-align: right;\">\n",
       "      <th></th>\n",
       "      <th>tweet_id</th>\n",
       "      <th>username</th>\n",
       "      <th>text</th>\n",
       "      <th>created_at</th>\n",
       "      <th>location</th>\n",
       "      <th>source</th>\n",
       "      <th>url</th>\n",
       "    </tr>\n",
       "  </thead>\n",
       "  <tbody>\n",
       "    <tr>\n",
       "      <th>0</th>\n",
       "      <td>1554430568087130115</td>\n",
       "      <td>Kejranaros</td>\n",
       "      <td>asa mitaka (war devil) edit // the perfect gir...</td>\n",
       "      <td>2022-08-02 11:35:02+00:00</td>\n",
       "      <td>None</td>\n",
       "      <td>Coub</td>\n",
       "      <td>https://twitter.com/Kejranaros/status/15544305...</td>\n",
       "    </tr>\n",
       "    <tr>\n",
       "      <th>0</th>\n",
       "      <td>1554428314210766849</td>\n",
       "      <td>ArcadaFox</td>\n",
       "      <td>Every week I go through the cycle of “oh I lov...</td>\n",
       "      <td>2022-08-02 11:26:04+00:00</td>\n",
       "      <td>Georgia, USA</td>\n",
       "      <td>Twitter for iPhone</td>\n",
       "      <td>https://twitter.com/ArcadaFox/status/155442831...</td>\n",
       "    </tr>\n",
       "    <tr>\n",
       "      <th>0</th>\n",
       "      <td>1554417416427667457</td>\n",
       "      <td>ultramarynna</td>\n",
       "      <td>mitaka tuesday hooray https://t.co/uKvNTnZOA8</td>\n",
       "      <td>2022-08-02 10:42:46+00:00</td>\n",
       "      <td>Yanni · she/her 25↑</td>\n",
       "      <td>Twitter Web App</td>\n",
       "      <td>https://twitter.com/ultramarynna/status/155441...</td>\n",
       "    </tr>\n",
       "    <tr>\n",
       "      <th>0</th>\n",
       "      <td>1554406601821388800</td>\n",
       "      <td>rainyxink</td>\n",
       "      <td>is there a ship tag for mitaka and war I feel ...</td>\n",
       "      <td>2022-08-02 09:59:48+00:00</td>\n",
       "      <td>aroace - 23 - rey</td>\n",
       "      <td>Twitter for iPhone</td>\n",
       "      <td>https://twitter.com/rainyxink/status/155440660...</td>\n",
       "    </tr>\n",
       "    <tr>\n",
       "      <th>0</th>\n",
       "      <td>1554405676239278080</td>\n",
       "      <td>Sn1ke__</td>\n",
       "      <td>Asa Mitaka, The war devil\\nFirst Fan art \\n#ch...</td>\n",
       "      <td>2022-08-02 09:56:07+00:00</td>\n",
       "      <td>In my house</td>\n",
       "      <td>Twitter for Android</td>\n",
       "      <td>https://twitter.com/Sn1ke__/status/15544056762...</td>\n",
       "    </tr>\n",
       "  </tbody>\n",
       "</table>\n",
       "</div>"
      ],
      "text/plain": [
       "              tweet_id      username  \\\n",
       "0  1554430568087130115    Kejranaros   \n",
       "0  1554428314210766849     ArcadaFox   \n",
       "0  1554417416427667457  ultramarynna   \n",
       "0  1554406601821388800     rainyxink   \n",
       "0  1554405676239278080       Sn1ke__   \n",
       "\n",
       "                                                text  \\\n",
       "0  asa mitaka (war devil) edit // the perfect gir...   \n",
       "0  Every week I go through the cycle of “oh I lov...   \n",
       "0      mitaka tuesday hooray https://t.co/uKvNTnZOA8   \n",
       "0  is there a ship tag for mitaka and war I feel ...   \n",
       "0  Asa Mitaka, The war devil\\nFirst Fan art \\n#ch...   \n",
       "\n",
       "                 created_at             location               source  \\\n",
       "0 2022-08-02 11:35:02+00:00                 None                Coub    \n",
       "0 2022-08-02 11:26:04+00:00         Georgia, USA   Twitter for iPhone   \n",
       "0 2022-08-02 10:42:46+00:00  Yanni · she/her 25↑      Twitter Web App   \n",
       "0 2022-08-02 09:59:48+00:00    aroace - 23 - rey   Twitter for iPhone   \n",
       "0 2022-08-02 09:56:07+00:00          In my house  Twitter for Android   \n",
       "\n",
       "                                                 url  \n",
       "0  https://twitter.com/Kejranaros/status/15544305...  \n",
       "0  https://twitter.com/ArcadaFox/status/155442831...  \n",
       "0  https://twitter.com/ultramarynna/status/155441...  \n",
       "0  https://twitter.com/rainyxink/status/155440660...  \n",
       "0  https://twitter.com/Sn1ke__/status/15544056762...  "
      ]
     },
     "execution_count": 35,
     "metadata": {},
     "output_type": "execute_result"
    }
   ],
   "source": [
    "# merged and final dataframe\n",
    "frames = [mitaka_df, asamitaka_df, mitakaasa_df, wardevil_df]\n",
    "tw_mitaka_df = pd.concat(frames)\n",
    "tw_mitaka_df.head()\n",
    "\n",
    "#tw_mitaka_df = tw_mitaka_df[~tw_mitaka_df.index.duplicated(keep='first')] #Removing dup indices later"
   ]
  },
  {
   "cell_type": "code",
   "execution_count": 36,
   "metadata": {},
   "outputs": [
    {
     "data": {
      "text/plain": [
       "tweet_id      795\n",
       "username      642\n",
       "text          778\n",
       "created_at    791\n",
       "location      394\n",
       "source         19\n",
       "url           795\n",
       "dtype: int64"
      ]
     },
     "execution_count": 36,
     "metadata": {},
     "output_type": "execute_result"
    }
   ],
   "source": [
    "tw_mitaka_df.nunique()"
   ]
  },
  {
   "cell_type": "code",
   "execution_count": 37,
   "metadata": {},
   "outputs": [
    {
     "name": "stdout",
     "output_type": "stream",
     "text": [
      "<class 'pandas.core.frame.DataFrame'>\n",
      "Int64Index: 979 entries, 0 to 0\n",
      "Data columns (total 7 columns):\n",
      " #   Column      Non-Null Count  Dtype              \n",
      "---  ------      --------------  -----              \n",
      " 0   tweet_id    979 non-null    int64              \n",
      " 1   username    979 non-null    object             \n",
      " 2   text        979 non-null    object             \n",
      " 3   created_at  979 non-null    datetime64[ns, UTC]\n",
      " 4   location    675 non-null    object             \n",
      " 5   source      979 non-null    object             \n",
      " 6   url         979 non-null    object             \n",
      "dtypes: datetime64[ns, UTC](1), int64(1), object(5)\n",
      "memory usage: 61.2+ KB\n"
     ]
    }
   ],
   "source": [
    "tw_mitaka_df.info()"
   ]
  },
  {
   "cell_type": "code",
   "execution_count": 38,
   "metadata": {},
   "outputs": [],
   "source": [
    "tw_mitaka_df.to_csv('tw_mitaka.csv', index=False)"
   ]
  },
  {
   "cell_type": "markdown",
   "metadata": {},
   "source": [
    "Since I can only query from the past 7 days, need to do more queries in future to get more datapoints.\\\n",
    "Would like to get at least 100k datapoints. \n",
    "\n",
    "8/5 Update: 846 unique tweets from 7/29 - 8/5\\\n",
    "8/12 Update: ### unique tweets from 8/5 - 8/12"
   ]
  }
 ],
 "metadata": {
  "kernelspec": {
   "display_name": "Python 3.10.4 64-bit",
   "language": "python",
   "name": "python3"
  },
  "language_info": {
   "codemirror_mode": {
    "name": "ipython",
    "version": 3
   },
   "file_extension": ".py",
   "mimetype": "text/x-python",
   "name": "python",
   "nbconvert_exporter": "python",
   "pygments_lexer": "ipython3",
   "version": "3.10.4"
  },
  "orig_nbformat": 4,
  "vscode": {
   "interpreter": {
    "hash": "5957fb8699bb8ade38cc9fa17c52bb197a88ed995d3d5124add69fcd13f3a1c9"
   }
  }
 },
 "nbformat": 4,
 "nbformat_minor": 2
}
