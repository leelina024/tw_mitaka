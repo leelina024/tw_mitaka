{
 "cells": [
  {
   "cell_type": "code",
   "execution_count": 13,
   "metadata": {},
   "outputs": [],
   "source": [
    "import pandas as pd\n",
    "import string\n",
    "import nltk\n",
    "from nltk.corpus import stopwords"
   ]
  },
  {
   "cell_type": "markdown",
   "metadata": {},
   "source": [
    "tweet_id - int - index \\\n",
    "username - string\\\n",
    "text - string\\\n",
    "created_at - datetime\\\n",
    "location - string\\\n",
    "source - string\\\n",
    "url - string"
   ]
  },
  {
   "cell_type": "markdown",
   "metadata": {},
   "source": [
    "text - split each sentence into individual words, without whitespace, puncutation, all lowercase.\\\n",
    "Each value of text is a list ['i', 'like', 'coffee']\\\n",
    "create word frequency dictionary ^"
   ]
  },
  {
   "cell_type": "code",
   "execution_count": 37,
   "metadata": {},
   "outputs": [],
   "source": [
    "tw_mitaka = pd.read_csv(\"8_7_tw_mitaka.csv\")\n",
    "tw_mitaka['created_at'] = pd.to_datetime(tw_mitaka['created_at'])"
   ]
  },
  {
   "cell_type": "code",
   "execution_count": 38,
   "metadata": {},
   "outputs": [
    {
     "name": "stdout",
     "output_type": "stream",
     "text": [
      "<class 'pandas.core.frame.DataFrame'>\n",
      "RangeIndex: 979 entries, 0 to 978\n",
      "Data columns (total 7 columns):\n",
      " #   Column      Non-Null Count  Dtype              \n",
      "---  ------      --------------  -----              \n",
      " 0   tweet_id    979 non-null    int64              \n",
      " 1   username    979 non-null    object             \n",
      " 2   text        979 non-null    object             \n",
      " 3   created_at  979 non-null    datetime64[ns, UTC]\n",
      " 4   location    675 non-null    object             \n",
      " 5   source      979 non-null    object             \n",
      " 6   url         979 non-null    object             \n",
      "dtypes: datetime64[ns, UTC](1), int64(1), object(5)\n",
      "memory usage: 53.7+ KB\n"
     ]
    }
   ],
   "source": [
    "tw_mitaka.info()"
   ]
  },
  {
   "cell_type": "code",
   "execution_count": 39,
   "metadata": {},
   "outputs": [
    {
     "data": {
      "text/html": [
       "<div>\n",
       "<style scoped>\n",
       "    .dataframe tbody tr th:only-of-type {\n",
       "        vertical-align: middle;\n",
       "    }\n",
       "\n",
       "    .dataframe tbody tr th {\n",
       "        vertical-align: top;\n",
       "    }\n",
       "\n",
       "    .dataframe thead th {\n",
       "        text-align: right;\n",
       "    }\n",
       "</style>\n",
       "<table border=\"1\" class=\"dataframe\">\n",
       "  <thead>\n",
       "    <tr style=\"text-align: right;\">\n",
       "      <th></th>\n",
       "      <th>tweet_id</th>\n",
       "      <th>username</th>\n",
       "      <th>text</th>\n",
       "      <th>created_at</th>\n",
       "      <th>location</th>\n",
       "      <th>source</th>\n",
       "      <th>url</th>\n",
       "    </tr>\n",
       "  </thead>\n",
       "  <tbody>\n",
       "    <tr>\n",
       "      <th>0</th>\n",
       "      <td>1554430568087130115</td>\n",
       "      <td>Kejranaros</td>\n",
       "      <td>asa mitaka (war devil) edit // the perfect gir...</td>\n",
       "      <td>2022-08-02 11:35:02+00:00</td>\n",
       "      <td>NaN</td>\n",
       "      <td>Coub</td>\n",
       "      <td>https://twitter.com/Kejranaros/status/15544305...</td>\n",
       "    </tr>\n",
       "    <tr>\n",
       "      <th>1</th>\n",
       "      <td>1554428314210766849</td>\n",
       "      <td>ArcadaFox</td>\n",
       "      <td>Every week I go through the cycle of “oh I lov...</td>\n",
       "      <td>2022-08-02 11:26:04+00:00</td>\n",
       "      <td>Georgia, USA</td>\n",
       "      <td>Twitter for iPhone</td>\n",
       "      <td>https://twitter.com/ArcadaFox/status/155442831...</td>\n",
       "    </tr>\n",
       "    <tr>\n",
       "      <th>2</th>\n",
       "      <td>1554417416427667457</td>\n",
       "      <td>ultramarynna</td>\n",
       "      <td>mitaka tuesday hooray https://t.co/uKvNTnZOA8</td>\n",
       "      <td>2022-08-02 10:42:46+00:00</td>\n",
       "      <td>Yanni · she/her 25↑</td>\n",
       "      <td>Twitter Web App</td>\n",
       "      <td>https://twitter.com/ultramarynna/status/155441...</td>\n",
       "    </tr>\n",
       "    <tr>\n",
       "      <th>3</th>\n",
       "      <td>1554406601821388800</td>\n",
       "      <td>rainyxink</td>\n",
       "      <td>is there a ship tag for mitaka and war I feel ...</td>\n",
       "      <td>2022-08-02 09:59:48+00:00</td>\n",
       "      <td>aroace - 23 - rey</td>\n",
       "      <td>Twitter for iPhone</td>\n",
       "      <td>https://twitter.com/rainyxink/status/155440660...</td>\n",
       "    </tr>\n",
       "    <tr>\n",
       "      <th>4</th>\n",
       "      <td>1554405676239278080</td>\n",
       "      <td>Sn1ke__</td>\n",
       "      <td>Asa Mitaka, The war devil\\nFirst Fan art \\n#ch...</td>\n",
       "      <td>2022-08-02 09:56:07+00:00</td>\n",
       "      <td>In my house</td>\n",
       "      <td>Twitter for Android</td>\n",
       "      <td>https://twitter.com/Sn1ke__/status/15544056762...</td>\n",
       "    </tr>\n",
       "  </tbody>\n",
       "</table>\n",
       "</div>"
      ],
      "text/plain": [
       "              tweet_id      username  \\\n",
       "0  1554430568087130115    Kejranaros   \n",
       "1  1554428314210766849     ArcadaFox   \n",
       "2  1554417416427667457  ultramarynna   \n",
       "3  1554406601821388800     rainyxink   \n",
       "4  1554405676239278080       Sn1ke__   \n",
       "\n",
       "                                                text  \\\n",
       "0  asa mitaka (war devil) edit // the perfect gir...   \n",
       "1  Every week I go through the cycle of “oh I lov...   \n",
       "2      mitaka tuesday hooray https://t.co/uKvNTnZOA8   \n",
       "3  is there a ship tag for mitaka and war I feel ...   \n",
       "4  Asa Mitaka, The war devil\\nFirst Fan art \\n#ch...   \n",
       "\n",
       "                 created_at             location               source  \\\n",
       "0 2022-08-02 11:35:02+00:00                  NaN                Coub    \n",
       "1 2022-08-02 11:26:04+00:00         Georgia, USA   Twitter for iPhone   \n",
       "2 2022-08-02 10:42:46+00:00  Yanni · she/her 25↑      Twitter Web App   \n",
       "3 2022-08-02 09:59:48+00:00    aroace - 23 - rey   Twitter for iPhone   \n",
       "4 2022-08-02 09:56:07+00:00          In my house  Twitter for Android   \n",
       "\n",
       "                                                 url  \n",
       "0  https://twitter.com/Kejranaros/status/15544305...  \n",
       "1  https://twitter.com/ArcadaFox/status/155442831...  \n",
       "2  https://twitter.com/ultramarynna/status/155441...  \n",
       "3  https://twitter.com/rainyxink/status/155440660...  \n",
       "4  https://twitter.com/Sn1ke__/status/15544056762...  "
      ]
     },
     "execution_count": 39,
     "metadata": {},
     "output_type": "execute_result"
    }
   ],
   "source": [
    "tw_mitaka.head()"
   ]
  },
  {
   "cell_type": "code",
   "execution_count": 40,
   "metadata": {},
   "outputs": [],
   "source": [
    "#Stop words are omitted.\n",
    "stops = set(stopwords.words('english'))\n",
    "\n",
    "for i in range(len(tw_mitaka['text'])):\n",
    "    tweet_text = []\n",
    "    words = tw_mitaka['text'][i].lower().split()\n",
    "    words = [''.join(letter for letter in word if letter not in (string.punctuation)) for word in words]\n",
    "    for word in words:\n",
    "        if word not in stops:\n",
    "            tweet_text.append(word)\n",
    "    tw_mitaka['text'][i] = tweet_text\n",
    "\n",
    "#Need to remove \"http...\" at end of some tweets.\n",
    "#Emotes and other languages other than English should be removed too. REGREX\n",
    "#emote_dict"
   ]
  },
  {
   "cell_type": "code",
   "execution_count": 61,
   "metadata": {},
   "outputs": [],
   "source": [
    "#Word frequency\n",
    "word_freq = {}\n",
    "\n",
    "for text_list in tw_mitaka['text']:\n",
    "    for word in text_list:\n",
    "        if word not in word_freq:\n",
    "            word_freq[word] = 0\n",
    "        word_freq[word] += 1"
   ]
  },
  {
   "cell_type": "code",
   "execution_count": 70,
   "metadata": {},
   "outputs": [
    {
     "data": {
      "text/plain": [
       "{'asa': 303, 'mitaka': 475, 'war': 545, 'devil': 539, 'edit': 6}"
      ]
     },
     "execution_count": 70,
     "metadata": {},
     "output_type": "execute_result"
    }
   ],
   "source": [
    "dict(list(word_freq.items())[0:5])"
   ]
  },
  {
   "cell_type": "code",
   "execution_count": 78,
   "metadata": {},
   "outputs": [],
   "source": [
    "df_wordfreq = pd.DataFrame.from_dict(word_freq, orient='index', columns=['Freq'])"
   ]
  },
  {
   "cell_type": "code",
   "execution_count": 83,
   "metadata": {},
   "outputs": [
    {
     "data": {
      "text/html": [
       "<div>\n",
       "<style scoped>\n",
       "    .dataframe tbody tr th:only-of-type {\n",
       "        vertical-align: middle;\n",
       "    }\n",
       "\n",
       "    .dataframe tbody tr th {\n",
       "        vertical-align: top;\n",
       "    }\n",
       "\n",
       "    .dataframe thead th {\n",
       "        text-align: right;\n",
       "    }\n",
       "</style>\n",
       "<table border=\"1\" class=\"dataframe\">\n",
       "  <thead>\n",
       "    <tr style=\"text-align: right;\">\n",
       "      <th></th>\n",
       "      <th>Freq</th>\n",
       "    </tr>\n",
       "  </thead>\n",
       "  <tbody>\n",
       "    <tr>\n",
       "      <th>war</th>\n",
       "      <td>545</td>\n",
       "    </tr>\n",
       "    <tr>\n",
       "      <th>devil</th>\n",
       "      <td>539</td>\n",
       "    </tr>\n",
       "    <tr>\n",
       "      <th>mitaka</th>\n",
       "      <td>475</td>\n",
       "    </tr>\n",
       "    <tr>\n",
       "      <th>asa</th>\n",
       "      <td>303</td>\n",
       "    </tr>\n",
       "    <tr>\n",
       "      <th>chainsawman</th>\n",
       "      <td>247</td>\n",
       "    </tr>\n",
       "    <tr>\n",
       "      <th></th>\n",
       "      <td>205</td>\n",
       "    </tr>\n",
       "    <tr>\n",
       "      <th>yoru</th>\n",
       "      <td>158</td>\n",
       "    </tr>\n",
       "    <tr>\n",
       "      <th>man</th>\n",
       "      <td>139</td>\n",
       "    </tr>\n",
       "    <tr>\n",
       "      <th>chainsaw</th>\n",
       "      <td>136</td>\n",
       "    </tr>\n",
       "    <tr>\n",
       "      <th>like</th>\n",
       "      <td>111</td>\n",
       "    </tr>\n",
       "  </tbody>\n",
       "</table>\n",
       "</div>"
      ],
      "text/plain": [
       "             Freq\n",
       "war           545\n",
       "devil         539\n",
       "mitaka        475\n",
       "asa           303\n",
       "chainsawman   247\n",
       "              205\n",
       "yoru          158\n",
       "man           139\n",
       "chainsaw      136\n",
       "like          111"
      ]
     },
     "execution_count": 83,
     "metadata": {},
     "output_type": "execute_result"
    }
   ],
   "source": [
    "df_wordfreq.sort_values('Freq', ascending=False).head(10)"
   ]
  },
  {
   "cell_type": "code",
   "execution_count": null,
   "metadata": {},
   "outputs": [],
   "source": []
  }
 ],
 "metadata": {
  "kernelspec": {
   "display_name": "Python 3.10.4 64-bit",
   "language": "python",
   "name": "python3"
  },
  "language_info": {
   "codemirror_mode": {
    "name": "ipython",
    "version": 3
   },
   "file_extension": ".py",
   "mimetype": "text/x-python",
   "name": "python",
   "nbconvert_exporter": "python",
   "pygments_lexer": "ipython3",
   "version": "3.10.4"
  },
  "orig_nbformat": 4,
  "vscode": {
   "interpreter": {
    "hash": "5957fb8699bb8ade38cc9fa17c52bb197a88ed995d3d5124add69fcd13f3a1c9"
   }
  }
 },
 "nbformat": 4,
 "nbformat_minor": 2
}
